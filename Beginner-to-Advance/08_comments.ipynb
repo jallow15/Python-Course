{
  "nbformat": 4,
  "nbformat_minor": 0,
  "metadata": {
    "colab": {
      "provenance": []
    },
    "kernelspec": {
      "name": "python3",
      "display_name": "Python 3"
    },
    "language_info": {
      "name": "python"
    }
  },
  "cells": [
    {
      "cell_type": "markdown",
      "source": [
        " What is a Comment? A comment is a note in the code that Python ignores when running the program.\n",
        "\n",
        " ✅Uses of Comments:​\n",
        "\n",
        "✔ Explain code → Helps others understand what your code does.​\n",
        "\n",
        "✔ Disable code temporarily → Useful for debugging.​\n",
        "\n",
        "✔ Improve readability → Makes complex logic easier to follow.​\n",
        "\n",
        "Types of Comments in Python​\n",
        "\n",
        "Python supports two types of comments:​\n",
        "\n",
        "​1. Single-Line Comments (#) A single-line comment starts with # and everything after it is ignored by Python.\n",
        "\n",
        "2.Multi-Line Comments (\"\"\" \"\"\" or ''' ''') \"For multiple lines of comments, use triple quotes (\"\"\" or ''')."
      ],
      "metadata": {
        "id": "FyrbzOdobv-Y"
      }
    },
    {
      "cell_type": "code",
      "source": [
        "# Single Line Comments are use to describe individual line of codes and does not affect the output\n",
        "# This is a comment\n",
        "print(\"Hello, World!\")  # This prints a message\n"
      ],
      "metadata": {
        "colab": {
          "base_uri": "https://localhost:8080/"
        },
        "id": "fKEhZX77c8FZ",
        "outputId": "12fb487d-5182-4e74-bb6d-f799b32055a6"
      },
      "execution_count": 1,
      "outputs": [
        {
          "output_type": "stream",
          "name": "stdout",
          "text": [
            "Hello, World!\n"
          ]
        }
      ]
    },
    {
      "cell_type": "code",
      "source": [
        "# multiline comments are useful for explaining a large section of code.\n",
        "\n",
        "\"\"\"\n",
        "This is a multi-line comment.\n",
        "It is use to explain a large section of code.\n",
        "It is useful for documentation.\n",
        "\"\"\"\n",
        "print(\"Python is awesome!\")\n"
      ],
      "metadata": {
        "colab": {
          "base_uri": "https://localhost:8080/"
        },
        "id": "DTBcgDk_dSkA",
        "outputId": "c66457a4-bb47-49b3-bfff-2309518213a2"
      },
      "execution_count": 2,
      "outputs": [
        {
          "output_type": "stream",
          "name": "stdout",
          "text": [
            "Python is awesome!\n"
          ]
        }
      ]
    },
    {
      "cell_type": "code",
      "source": [
        "# debugging or experimentation\n",
        "\n",
        "#print(\"This line will not run\")\n",
        "print(\"Only this line runs\")"
      ],
      "metadata": {
        "colab": {
          "base_uri": "https://localhost:8080/"
        },
        "id": "HBt0_xJCdg9n",
        "outputId": "4268b619-186f-4f6c-a698-973d14b35779"
      },
      "execution_count": 3,
      "outputs": [
        {
          "output_type": "stream",
          "name": "stdout",
          "text": [
            "Only this line runs\n"
          ]
        }
      ]
    },
    {
      "cell_type": "markdown",
      "source": [
        "✔ Write clear and useful comments.\n",
        "\n",
        "✔ Don’t overuse comments on obvious code.\n",
        "\n",
        "✔ Use comments to explain complex logic."
      ],
      "metadata": {
        "id": "5EyIZaC0dn5Q"
      }
    }
  ]
}