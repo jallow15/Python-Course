{
  "nbformat": 4,
  "nbformat_minor": 0,
  "metadata": {
    "colab": {
      "provenance": []
    },
    "kernelspec": {
      "name": "python3",
      "display_name": "Python 3"
    },
    "language_info": {
      "name": "python"
    }
  },
  "cells": [
    {
      "cell_type": "markdown",
      "source": [
        "What is a Data Type?​\n",
        "\n",
        "​A data type in Python defines the type of value a variable can hold.\n",
        "It determines how the data is stored, manipulated, and used in operations."
      ],
      "metadata": {
        "id": "4wp5vTLIxZfQ"
      }
    },
    {
      "cell_type": "code",
      "source": [
        "# data types\n",
        "name = \"Python\"    # Detects a String when inside of quotes.\n",
        "age = 50           # Detects an Integer when the value is a whole number.\n",
        "price = 11.99      # Detects a Float when the value is a decimal number.\n",
        "is_active = True   # Detects a Boolean value when the value is either true or false."
      ],
      "metadata": {
        "id": "3wEPm5pdxoPW"
      },
      "execution_count": 1,
      "outputs": []
    },
    {
      "cell_type": "code",
      "source": [
        "# type function is use to detect the data type of a value\n",
        "# type(variable_name)\n",
        "\n",
        "print(type(name))           # check the data type of name variable\n",
        "print(type(age))            # check the data type of age variable\n",
        "print(type(price))          # check the data type of price variable\n",
        "print(type(is_active))      # check the data type of is_active variable"
      ],
      "metadata": {
        "colab": {
          "base_uri": "https://localhost:8080/"
        },
        "id": "wqwHurw7yTvb",
        "outputId": "543ddb28-a941-44b4-b23c-debedabe4256"
      },
      "execution_count": 3,
      "outputs": [
        {
          "output_type": "stream",
          "name": "stdout",
          "text": [
            "<class 'str'>\n",
            "<class 'int'>\n",
            "<class 'float'>\n",
            "<class 'bool'>\n"
          ]
        }
      ]
    }
  ]
}