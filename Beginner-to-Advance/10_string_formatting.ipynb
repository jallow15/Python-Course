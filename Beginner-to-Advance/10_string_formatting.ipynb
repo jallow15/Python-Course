{
  "nbformat": 4,
  "nbformat_minor": 0,
  "metadata": {
    "colab": {
      "provenance": []
    },
    "kernelspec": {
      "name": "python3",
      "display_name": "Python 3"
    },
    "language_info": {
      "name": "python"
    }
  },
  "cells": [
    {
      "cell_type": "markdown",
      "source": [
        "Formatted Strings (f-Strings): Allows inserting variables inside a string easily.\n",
        "\n",
        "Use f\"\" before the string.​\n",
        "\n",
        "\n",
        "✔ Why use f-strings?​\n",
        "\n",
        "   1. Easy to read and format text.​\n",
        "\n",
        "   2. Faster than old formatting methods.​\n",
        "\n",
        "   3. Works with variables, expressions, and function calls."
      ],
      "metadata": {
        "id": "fR92XbL9UBNp"
      }
    },
    {
      "cell_type": "code",
      "source": [
        "name = \"Ebrima\"\n",
        "age = 25\n",
        "print(f\"My name is {name} and I am {age} years old.\")\n"
      ],
      "metadata": {
        "colab": {
          "base_uri": "https://localhost:8080/"
        },
        "id": "EuXb_8PjUiI7",
        "outputId": "89e0f005-9137-4f28-97ff-5c04b94ea8fb"
      },
      "execution_count": 1,
      "outputs": [
        {
          "output_type": "stream",
          "name": "stdout",
          "text": [
            "My name is Ebrima and I am 25 years old.\n"
          ]
        }
      ]
    },
    {
      "cell_type": "code",
      "source": [
        "num1 = 10\n",
        "num2 = 5\n",
        "print(f\"the sum of {num1} and {num2} is {num1 + num2}\")"
      ],
      "metadata": {
        "colab": {
          "base_uri": "https://localhost:8080/"
        },
        "id": "E775PESaUmsl",
        "outputId": "654a7f82-33bc-4467-b56f-23f6069ab228"
      },
      "execution_count": 2,
      "outputs": [
        {
          "output_type": "stream",
          "name": "stdout",
          "text": [
            "the sum of 10 and 5 is 15\n"
          ]
        }
      ]
    }
  ]
}