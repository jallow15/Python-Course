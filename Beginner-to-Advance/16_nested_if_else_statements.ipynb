{
  "nbformat": 4,
  "nbformat_minor": 0,
  "metadata": {
    "colab": {
      "provenance": []
    },
    "kernelspec": {
      "name": "python3",
      "display_name": "Python 3"
    },
    "language_info": {
      "name": "python"
    }
  },
  "cells": [
    {
      "cell_type": "markdown",
      "source": [
        "## Nested if-else Statements in Python\n",
        "\n",
        "A **nested if-else statement** means you have an `if` or `else` block inside another `if` or `else`.  \n",
        "It allows you to check multiple conditions in a structured way.\n",
        "\n",
        "### Syntax:\n",
        "```python\n",
        "if condition1:\n",
        "    # Code block for condition1\n",
        "    if condition2:\n",
        "        # Code block for condition2\n",
        "    else:\n",
        "        # Code block if condition2 is False\n",
        "else:\n",
        "    # Code block if condition1 is False\n"
      ],
      "metadata": {
        "id": "h7SbEfpr4Bwi"
      }
    },
    {
      "cell_type": "code",
      "source": [
        "age = int(input('Enter your age: '))     #  ask users to input there age.\n",
        "\n",
        "if age >= 18 :\n",
        "    citizenship = input('Are you a citizen ? (yes / no) ').lower()  #  If age >= 18, Python asks for if you are a citizen and convert whatever you type to lower case letters.\n",
        "\n",
        "    if citizenship == 'yes' :       # If the user types yes\n",
        "        print('you are eligible to vote')   # then this line of code will run.\n",
        "\n",
        "    else :\n",
        "        print('you must be a citizen to vote') # if user ddoes not type yes then this line of code will run\n",
        "\n",
        "else :\n",
        "      print('you are too young to vote')    # if age is less than 18 then this line of codes run.\n",
        "\n",
        "\n",
        "# there is a better approach  But sometimes, nested conditionals make the code harder to read. so lets take a look at logical operators in our next lesson which makes it easier to write these types of conditionals."
      ],
      "metadata": {
        "colab": {
          "base_uri": "https://localhost:8080/"
        },
        "id": "1FSvPuu64FmM",
        "outputId": "0b2d235b-e11a-46af-948a-6f7f3d16e6eb"
      },
      "execution_count": 1,
      "outputs": [
        {
          "output_type": "stream",
          "name": "stdout",
          "text": [
            "Enter your age: 20\n",
            "Are you a citizen ? (yes / no) yes\n",
            "you are eligible to vote\n"
          ]
        }
      ]
    }
  ]
}