{
  "nbformat": 4,
  "nbformat_minor": 0,
  "metadata": {
    "colab": {
      "provenance": []
    },
    "kernelspec": {
      "name": "python3",
      "display_name": "Python 3"
    },
    "language_info": {
      "name": "python"
    }
  },
  "cells": [
    {
      "cell_type": "markdown",
      "source": [
        "What is User Input? User input allows a program to receive data from the user during execution. Python uses the input() function to take input.\n",
        "\n",
        " The input() function always returns a string, even if the user enters numbers.\n",
        "\n",
        " Converting Input to Numbers (Type Casting) To perform math operations, we must convert input to int or float.\n",
        "\n",
        " Taking Multiple Inputs We can take multiple inputs in one line using .split()."
      ],
      "metadata": {
        "id": "G0K-1JkH2qMj"
      }
    },
    {
      "cell_type": "code",
      "source": [
        "# user input\n",
        "name = input(\"Enter your name: \")\n",
        "print(f\"Hello, {name}!\")           # ✔ The user’s input is stored in the name variable and displayed using an f-string.\n"
      ],
      "metadata": {
        "colab": {
          "base_uri": "https://localhost:8080/"
        },
        "id": "nKJdBfI73OYX",
        "outputId": "1e9034ca-4967-4706-b373-b88070a0459c"
      },
      "execution_count": 1,
      "outputs": [
        {
          "output_type": "stream",
          "name": "stdout",
          "text": [
            "Enter your name: ebrima\n",
            "Hello, ebrima!\n"
          ]
        }
      ]
    },
    {
      "cell_type": "code",
      "source": [
        " #\"The input() function always returns text (a string), even if the user enters numbers.\"\n",
        "\n",
        "age = input(\"Enter your age: \")\n",
        "print(f\"You entered: {age}, and its type is {type(age)}\")"
      ],
      "metadata": {
        "colab": {
          "base_uri": "https://localhost:8080/"
        },
        "id": "P65ARS1n3RcS",
        "outputId": "29a9fbe4-450c-468f-becb-4e00f5a637cd"
      },
      "execution_count": 2,
      "outputs": [
        {
          "output_type": "stream",
          "name": "stdout",
          "text": [
            "Enter your age: 25\n",
            "You entered: 25, and its type is <class 'str'>\n"
          ]
        }
      ]
    },
    {
      "cell_type": "code",
      "source": [
        "# we can add subtract and take the product of two numbers\n",
        "num1 = float(input(\"Enter first number: \"))\n",
        "num2 = float(input(\"Enter second number: \"))\n",
        "\n",
        "print(f\"Sum: {num1 + num2}\")\n",
        "print(f\"Difference: {num1 - num2}\")\n",
        "print(f\"Product: {num1 * num2}\")\n"
      ],
      "metadata": {
        "colab": {
          "base_uri": "https://localhost:8080/"
        },
        "id": "56FNFi653UZ6",
        "outputId": "5f26639e-bd81-43fa-c467-10c495e1f12d"
      },
      "execution_count": 3,
      "outputs": [
        {
          "output_type": "stream",
          "name": "stdout",
          "text": [
            "Enter first number: 10\n",
            "Enter second number: 12\n",
            "Sum: 22.0\n",
            "Difference: -2.0\n",
            "Product: 120.0\n"
          ]
        }
      ]
    },
    {
      "cell_type": "code",
      "source": [
        "# multiple inputs at once\n",
        "first_name, last_name = input(\"Enter your first and last name: \").split() # ✔ By default, .split() separates words by spaces.\n",
        "print(f\"Hello {first_name} {last_name}, welcome!\")\n"
      ],
      "metadata": {
        "colab": {
          "base_uri": "https://localhost:8080/"
        },
        "id": "-RTE3JVD3XWR",
        "outputId": "16ca5a24-004f-4f10-82b0-0106826c4abe"
      },
      "execution_count": 4,
      "outputs": [
        {
          "output_type": "stream",
          "name": "stdout",
          "text": [
            "Enter your first and last name: ebrima jallow\n",
            "Hello ebrima jallow, welcome!\n"
          ]
        }
      ]
    }
  ]
}