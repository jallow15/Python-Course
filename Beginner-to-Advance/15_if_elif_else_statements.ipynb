{
  "nbformat": 4,
  "nbformat_minor": 0,
  "metadata": {
    "colab": {
      "provenance": []
    },
    "kernelspec": {
      "name": "python3",
      "display_name": "Python 3"
    },
    "language_info": {
      "name": "python"
    }
  },
  "cells": [
    {
      "cell_type": "markdown",
      "source": [
        "if-elif-else Statement​\n",
        "\n",
        "Helps us to handle more than two possibilities and prevents us from writing multiple if-else statements.\n",
        "\n",
        "```python\n",
        "# if / elif / else syntax in Python\n",
        "\n",
        "if condition1:\n",
        "    # code block if condition1 is True\n",
        "    print(\"Condition 1 is True\")\n",
        "elif condition2:\n",
        "    # code block if condition2 is True\n",
        "    print(\"Condition 2 is True\")\n",
        "else:\n",
        "    # code block if no conditions are True\n",
        "    print(\"None of the conditions are True\")\n",
        "```\n"
      ],
      "metadata": {
        "id": "UPcYbKw06uAC"
      }
    },
    {
      "cell_type": "code",
      "source": [
        "# if elif else statements allows us to check more than two possibilities\n",
        "# code to check if a number is a positive negative or zero values\n",
        "\n",
        "number = int(input(\"Enter a number: \"))\n",
        "if number > 0 :                        # checks if number is greater than 0 if true runs the code inside the if block\n",
        "    print('this is a positive value')\n",
        "\n",
        "elif number == 0 :\n",
        "    print('this is a zero value')     # if the if condition is false then checks the elif condition\n",
        "\n",
        "else :\n",
        "    print('this is a negative value') # if both conditions are false runs the code inside the else condition"
      ],
      "metadata": {
        "colab": {
          "base_uri": "https://localhost:8080/"
        },
        "id": "gi4SM1rX7gCr",
        "outputId": "e7e84d4c-a679-4bc9-bbd8-be88fad0f7f2"
      },
      "execution_count": 1,
      "outputs": [
        {
          "output_type": "stream",
          "name": "stdout",
          "text": [
            "Enter a number: -10\n",
            "this is a negative value\n"
          ]
        }
      ]
    },
    {
      "cell_type": "code",
      "source": [
        "# code to check the Grades or scores of students\n",
        "\n",
        "score = float(input('Enter your score: '))\n",
        "\n",
        "if score >= 90 :\n",
        "    print('A grade')\n",
        "\n",
        "elif score >= 85 :\n",
        "    print('B grade')\n",
        "\n",
        "elif score >= 80 :\n",
        "    print('C grade')\n",
        "\n",
        "elif score >= 75 :\n",
        "    print('D grade')\n",
        "\n",
        "elif score >= 70 :\n",
        "    print('E grade')\n",
        "\n",
        "else :\n",
        "    print('F grade')"
      ],
      "metadata": {
        "colab": {
          "base_uri": "https://localhost:8080/"
        },
        "id": "juvhai618Rrq",
        "outputId": "6efc112e-3234-46e0-b27e-fd7980393e67"
      },
      "execution_count": 2,
      "outputs": [
        {
          "output_type": "stream",
          "name": "stdout",
          "text": [
            "Enter your score: 69\n",
            "F grade\n"
          ]
        }
      ]
    }
  ]
}