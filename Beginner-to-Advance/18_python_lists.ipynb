{
  "nbformat": 4,
  "nbformat_minor": 0,
  "metadata": {
    "colab": {
      "provenance": []
    },
    "kernelspec": {
      "name": "python3",
      "display_name": "Python 3"
    },
    "language_info": {
      "name": "python"
    }
  },
  "cells": [
    {
      "cell_type": "markdown",
      "source": [
        "What is a List in Python?\n",
        "A list in Python is a collection of items stored in a single variable.\n",
        "\n",
        "Lists are ordered, changeable (mutable), and can contain items of different data types (like strings, numbers, booleans, etc.).\n",
        "\n",
        "***List Syntax***\n",
        "\n",
        "my_list = [item1, item2, item3, ...]\n",
        "\n",
        "Lists are created using square brackets [ ]\n",
        "\n",
        "Items inside the list are separated by commas\n",
        "\n",
        "A list can be empty, or contain any number of elements\n",
        "\n",
        "\n",
        "***Key Features of Lists***\n",
        "\n",
        "1.Ordered: Items have a defined order and that order won’t change unless you modify the list.\n",
        "\n",
        "2.Mutable: You can change, add, or remove elements after the list is created.\n",
        "\n",
        "3.Indexed: Each item has an index (starting from 0 for the first item)."
      ],
      "metadata": {
        "id": "1zV0HfqsAJRp"
      }
    },
    {
      "cell_type": "code",
      "source": [
        "# Creating a list of numbers\n",
        "numbers = [10, 20, 30, 40]\n",
        "print(numbers)               # Output: [10, 20, 30, 40]\n",
        "print(type(numbers))        # Output: <class 'list'> — confirms it's a list"
      ],
      "metadata": {
        "colab": {
          "base_uri": "https://localhost:8080/"
        },
        "id": "zJs2KZ8IBBTn",
        "outputId": "dc7f647f-c1cd-40b0-ecdc-89c739dd5111"
      },
      "execution_count": 1,
      "outputs": [
        {
          "output_type": "stream",
          "name": "stdout",
          "text": [
            "[10, 20, 30, 40]\n",
            "<class 'list'>\n"
          ]
        }
      ]
    },
    {
      "cell_type": "code",
      "source": [
        "# Creating a list of fruits\n",
        "fruits = [\"apple\", \"banana\", \"cherry\"]\n",
        "print(fruits)               # Output: ['apple', 'banana', 'cherry']\n",
        "print(type(numbers))        # Output: <class 'list'> — again confirming list type"
      ],
      "metadata": {
        "colab": {
          "base_uri": "https://localhost:8080/"
        },
        "id": "TCjxWC9-BEb8",
        "outputId": "46eedaeb-b328-4eda-e0e5-8a003bfdeb0a"
      },
      "execution_count": 2,
      "outputs": [
        {
          "output_type": "stream",
          "name": "stdout",
          "text": [
            "['apple', 'banana', 'cherry']\n",
            "<class 'list'>\n"
          ]
        }
      ]
    },
    {
      "cell_type": "code",
      "source": [
        "# Creating a mixed list with different data types\n",
        "mixed = [\"hello\", 42, True, 3.142]\n",
        "print(mixed)                # Output: ['hello', 42, True, 3.142]\n",
        "print(type(mixed))          # Output: <class 'list'>"
      ],
      "metadata": {
        "colab": {
          "base_uri": "https://localhost:8080/"
        },
        "id": "LViOM074BKOk",
        "outputId": "b91112e4-6ebe-4a1c-c3c2-4b4e6661ea82"
      },
      "execution_count": 3,
      "outputs": [
        {
          "output_type": "stream",
          "name": "stdout",
          "text": [
            "['hello', 42, True, 3.142]\n",
            "<class 'list'>\n"
          ]
        }
      ]
    },
    {
      "cell_type": "code",
      "source": [
        "# Accessing elements using positive indexing from the beginning\n",
        "fruits = [\"apple\", \"banana\", \"cherry\"]\n",
        "print(fruits[0])            # Output: 'apple' — first item in the list\n",
        "print(fruits[1])            # Output: 'banana' — second item in the list\n",
        "print(fruits[2])            # Output: 'cherry' — third item in the list"
      ],
      "metadata": {
        "colab": {
          "base_uri": "https://localhost:8080/"
        },
        "id": "8I_D355_BQ3-",
        "outputId": "f3b79742-deea-4d9f-deb3-ef87aae0bc86"
      },
      "execution_count": 4,
      "outputs": [
        {
          "output_type": "stream",
          "name": "stdout",
          "text": [
            "apple\n",
            "banana\n",
            "cherry\n"
          ]
        }
      ]
    },
    {
      "cell_type": "code",
      "source": [
        "# Negative indexing: accessing elements from the end\n",
        "numbers = [10, 20, 30, 40]\n",
        "print(numbers[-1])          # Output: 40 — last item\n",
        "print(numbers[-2])          # Output: 30 — second-to-last\n",
        "print(numbers[-3])          # Output: 20\n",
        "print(numbers[-4])          # Output: 10 — first item"
      ],
      "metadata": {
        "colab": {
          "base_uri": "https://localhost:8080/"
        },
        "id": "xlVImzxcBuRh",
        "outputId": "d472b931-3077-4101-85f3-7c659f8fd6f3"
      },
      "execution_count": 5,
      "outputs": [
        {
          "output_type": "stream",
          "name": "stdout",
          "text": [
            "40\n",
            "30\n",
            "20\n",
            "10\n"
          ]
        }
      ]
    },
    {
      "cell_type": "code",
      "source": [
        "# Updating and modifying elements in a list\n",
        "fruits = [\"apple\", \"banana\", \"cherry\"]\n",
        "fruits[1] = \"mango\"         # Changing 'banana' to 'mango'\n",
        "fruits[2] = \"orange\"        # Changing 'cherry' to 'orange'\n",
        "print(fruits)               # Output: ['apple', 'mango', 'orange']"
      ],
      "metadata": {
        "colab": {
          "base_uri": "https://localhost:8080/"
        },
        "id": "yToBBSbcB9aL",
        "outputId": "cd3b6218-a08e-45a4-83eb-fe225c0dcc4f"
      },
      "execution_count": 6,
      "outputs": [
        {
          "output_type": "stream",
          "name": "stdout",
          "text": [
            "['apple', 'mango', 'orange']\n"
          ]
        }
      ]
    },
    {
      "cell_type": "code",
      "source": [
        "# Updating a number in the list\n",
        "numbers = [10, 20, 30, 40]\n",
        "numbers[0] = 1              # Changing first element from 10 to 1\n",
        "print(numbers)              # Output: [1, 20, 30, 40]"
      ],
      "metadata": {
        "colab": {
          "base_uri": "https://localhost:8080/"
        },
        "id": "Duqk43wDCH-h",
        "outputId": "813ea098-311b-4291-ee7a-d7720a0b7a3b"
      },
      "execution_count": 7,
      "outputs": [
        {
          "output_type": "stream",
          "name": "stdout",
          "text": [
            "[1, 20, 30, 40]\n"
          ]
        }
      ]
    }
  ]
}