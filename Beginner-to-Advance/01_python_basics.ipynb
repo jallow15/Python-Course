{
  "nbformat": 4,
  "nbformat_minor": 0,
  "metadata": {
    "colab": {
      "provenance": []
    },
    "kernelspec": {
      "name": "python3",
      "display_name": "Python 3"
    },
    "language_info": {
      "name": "python"
    }
  },
  "cells": [
    {
      "cell_type": "code",
      "source": [
        "print(\"hello world!\")\n",
        "print('hello world!')\n",
        "print(1)\n",
        "print(2 + 1)\n",
        "print(\"2 + 1\")"
      ],
      "metadata": {
        "colab": {
          "base_uri": "https://localhost:8080/"
        },
        "id": "OcU1FOYn0tuu",
        "outputId": "6517e231-8287-45f6-e8ed-5f4f59560d10"
      },
      "execution_count": null,
      "outputs": [
        {
          "output_type": "stream",
          "name": "stdout",
          "text": [
            "hello world!\n",
            "hello world!\n",
            "1\n",
            "3\n",
            "2 + 1\n"
          ]
        }
      ]
    },
    {
      "cell_type": "code",
      "source": [
        "print(\"python\", \"is\", \"cool\")\n",
        "print(\"my favourite is\", 10)\n",
        "print(\"2 + 1 =\", 2 + 1)"
      ],
      "metadata": {
        "colab": {
          "base_uri": "https://localhost:8080/"
        },
        "id": "jeNtsIDa6LgX",
        "outputId": "d81ff6b4-b76f-4b66-eb99-0a038fb3b808"
      },
      "execution_count": null,
      "outputs": [
        {
          "output_type": "stream",
          "name": "stdout",
          "text": [
            "python is cool\n",
            "my favourite is 10\n",
            "2 + 1 = 3\n"
          ]
        }
      ]
    },
    {
      "cell_type": "code",
      "source": [
        "print(\"python\", \"is\", \"cool\", sep = \"-\")\n",
        "print(23, 11, 2025, sep = \"/\")"
      ],
      "metadata": {
        "colab": {
          "base_uri": "https://localhost:8080/"
        },
        "id": "x6ER-B6fAGeP",
        "outputId": "2345e844-f08e-48ff-e887-45995b34aa24"
      },
      "execution_count": null,
      "outputs": [
        {
          "output_type": "stream",
          "name": "stdout",
          "text": [
            "python-is-cool\n",
            "23/11/2025\n"
          ]
        }
      ]
    },
    {
      "cell_type": "code",
      "source": [
        "print(\"hello\", end = \" \")\n",
        "print(\"world\")"
      ],
      "metadata": {
        "colab": {
          "base_uri": "https://localhost:8080/"
        },
        "id": "cVBJrJe1BWtY",
        "outputId": "cdd59308-6b65-422e-cc82-bd38bf50de02"
      },
      "execution_count": null,
      "outputs": [
        {
          "output_type": "stream",
          "name": "stdout",
          "text": [
            "hello world\n"
          ]
        }
      ]
    },
    {
      "cell_type": "code",
      "source": [
        "print(\"hello\", end = \"!!!\")"
      ],
      "metadata": {
        "colab": {
          "base_uri": "https://localhost:8080/"
        },
        "id": "5LEq2pa9Bxor",
        "outputId": "37a34316-c8be-4fb7-ad4d-8f7ce2e49677"
      },
      "execution_count": null,
      "outputs": [
        {
          "output_type": "stream",
          "name": "stdout",
          "text": [
            "hello!!!"
          ]
        }
      ]
    },
    {
      "cell_type": "code",
      "source": [
        "print(\"my name is ebrima.\\ni am a coder.\\ni live in turkey.\")"
      ],
      "metadata": {
        "colab": {
          "base_uri": "https://localhost:8080/"
        },
        "id": "3gkV7WuDFGmT",
        "outputId": "e77a2c84-4229-4aab-b693-6ba77c4a60cb"
      },
      "execution_count": null,
      "outputs": [
        {
          "output_type": "stream",
          "name": "stdout",
          "text": [
            "my name is ebrima.\n",
            "i am a coder.\n",
            "i live in turkey.\n"
          ]
        }
      ]
    },
    {
      "cell_type": "code",
      "source": [
        "print(\"name\\tage\\tgender\")\n",
        "print(\"ebrima\\t30\\tmale\")"
      ],
      "metadata": {
        "colab": {
          "base_uri": "https://localhost:8080/"
        },
        "id": "-JlU-kyDHdJf",
        "outputId": "abeb9431-0eb8-4d71-e2be-5e7a1ad24146"
      },
      "execution_count": null,
      "outputs": [
        {
          "output_type": "stream",
          "name": "stdout",
          "text": [
            "name\tage\tgender\n",
            "ebrima\t30\tmale\n"
          ]
        }
      ]
    },
    {
      "cell_type": "code",
      "source": [
        "name = \"ebrima\"\n",
        "print(name)"
      ],
      "metadata": {
        "colab": {
          "base_uri": "https://localhost:8080/"
        },
        "id": "eCZcE3m80N6O",
        "outputId": "a02a127f-4bb5-4113-e666-ee231a4fba95"
      },
      "execution_count": null,
      "outputs": [
        {
          "output_type": "stream",
          "name": "stdout",
          "text": [
            "ebrima\n"
          ]
        }
      ]
    },
    {
      "cell_type": "code",
      "source": [
        "f name = \"john\"\n",
        "print(f name)"
      ],
      "metadata": {
        "colab": {
          "base_uri": "https://localhost:8080/",
          "height": 106
        },
        "id": "5X4o5-LE0d_1",
        "outputId": "0c0b154c-1b48-439c-da43-10e4301a1b3e"
      },
      "execution_count": null,
      "outputs": [
        {
          "output_type": "error",
          "ename": "SyntaxError",
          "evalue": "invalid syntax (<ipython-input-5-3117127cb240>, line 1)",
          "traceback": [
            "\u001b[0;36m  File \u001b[0;32m\"<ipython-input-5-3117127cb240>\"\u001b[0;36m, line \u001b[0;32m1\u001b[0m\n\u001b[0;31m    f name = \"john\"\u001b[0m\n\u001b[0m      ^\u001b[0m\n\u001b[0;31mSyntaxError\u001b[0m\u001b[0;31m:\u001b[0m invalid syntax\n"
          ]
        }
      ]
    },
    {
      "cell_type": "code",
      "source": [
        "first = \"ebrima\"\n",
        "print(First)"
      ],
      "metadata": {
        "colab": {
          "base_uri": "https://localhost:8080/",
          "height": 159
        },
        "id": "Y3TtngaM0zMr",
        "outputId": "f75866a8-38ab-48ab-b336-69053e82891e"
      },
      "execution_count": null,
      "outputs": [
        {
          "output_type": "error",
          "ename": "NameError",
          "evalue": "name 'First' is not defined",
          "traceback": [
            "\u001b[0;31m---------------------------------------------------------------------------\u001b[0m",
            "\u001b[0;31mNameError\u001b[0m                                 Traceback (most recent call last)",
            "\u001b[0;32m<ipython-input-6-19d7c1ddf97d>\u001b[0m in \u001b[0;36m<cell line: 0>\u001b[0;34m()\u001b[0m\n\u001b[1;32m      1\u001b[0m \u001b[0mfirst\u001b[0m \u001b[0;34m=\u001b[0m \u001b[0;34m\"ebrima\"\u001b[0m\u001b[0;34m\u001b[0m\u001b[0;34m\u001b[0m\u001b[0m\n\u001b[0;32m----> 2\u001b[0;31m \u001b[0mprint\u001b[0m\u001b[0;34m(\u001b[0m\u001b[0mFirst\u001b[0m\u001b[0;34m)\u001b[0m\u001b[0;34m\u001b[0m\u001b[0;34m\u001b[0m\u001b[0m\n\u001b[0m",
            "\u001b[0;31mNameError\u001b[0m: name 'First' is not defined"
          ]
        }
      ]
    },
    {
      "cell_type": "code",
      "source": [
        "if = \"ebrima\"\n",
        "print(if)"
      ],
      "metadata": {
        "colab": {
          "base_uri": "https://localhost:8080/",
          "height": 106
        },
        "id": "rJ5VlG_01CRx",
        "outputId": "b1921562-cc9d-436c-9e49-76ef4dc3599f"
      },
      "execution_count": null,
      "outputs": [
        {
          "output_type": "error",
          "ename": "SyntaxError",
          "evalue": "invalid syntax (<ipython-input-7-31407ef5b4c1>, line 1)",
          "traceback": [
            "\u001b[0;36m  File \u001b[0;32m\"<ipython-input-7-31407ef5b4c1>\"\u001b[0;36m, line \u001b[0;32m1\u001b[0m\n\u001b[0;31m    if = \"ebrima\"\u001b[0m\n\u001b[0m       ^\u001b[0m\n\u001b[0;31mSyntaxError\u001b[0m\u001b[0;31m:\u001b[0m invalid syntax\n"
          ]
        }
      ]
    },
    {
      "cell_type": "code",
      "source": [
        "first@ =\"john\"\n",
        "print(first@)"
      ],
      "metadata": {
        "colab": {
          "base_uri": "https://localhost:8080/",
          "height": 106
        },
        "id": "qhBHGv3d1LkQ",
        "outputId": "83b10586-eea2-4623-9376-c983ab0a3d77"
      },
      "execution_count": null,
      "outputs": [
        {
          "output_type": "error",
          "ename": "SyntaxError",
          "evalue": "invalid syntax (<ipython-input-8-1954e51267b0>, line 1)",
          "traceback": [
            "\u001b[0;36m  File \u001b[0;32m\"<ipython-input-8-1954e51267b0>\"\u001b[0;36m, line \u001b[0;32m1\u001b[0m\n\u001b[0;31m    first@ =\"john\"\u001b[0m\n\u001b[0m           ^\u001b[0m\n\u001b[0;31mSyntaxError\u001b[0m\u001b[0;31m:\u001b[0m invalid syntax\n"
          ]
        }
      ]
    },
    {
      "cell_type": "code",
      "source": [
        "user_name = \"ebrima\"\n",
        "print(user_name)\n",
        "\n",
        "last_name = \"jallow\"\n",
        "print(last_name)"
      ],
      "metadata": {
        "colab": {
          "base_uri": "https://localhost:8080/"
        },
        "id": "s7oYFzgb2h8E",
        "outputId": "4d8733de-6e39-49ec-ce08-e4ef9e5c4b25"
      },
      "execution_count": null,
      "outputs": [
        {
          "output_type": "stream",
          "name": "stdout",
          "text": [
            "ebrima\n",
            "jallow\n"
          ]
        }
      ]
    },
    {
      "cell_type": "code",
      "source": [
        "PI = 3.142\n",
        "print(PI)\n",
        "\n",
        "MAX_VALUE = 100\n",
        "print(MAX_VALUE)"
      ],
      "metadata": {
        "colab": {
          "base_uri": "https://localhost:8080/"
        },
        "id": "XqXu5-tm22ok",
        "outputId": "ad565376-ae14-4b53-9d55-71872106c908"
      },
      "execution_count": null,
      "outputs": [
        {
          "output_type": "stream",
          "name": "stdout",
          "text": [
            "3.142\n",
            "100\n"
          ]
        }
      ]
    },
    {
      "cell_type": "code",
      "source": [
        "name = \"ebrima\"\n",
        "age = 50\n",
        "price = 11.99\n",
        "is_active = True"
      ],
      "metadata": {
        "id": "MtWFxF4SDE68"
      },
      "execution_count": null,
      "outputs": []
    },
    {
      "cell_type": "code",
      "source": [
        "print(type(name))\n",
        "print(type(age))\n",
        "print(type(price))\n",
        "print(type(is_active))"
      ],
      "metadata": {
        "colab": {
          "base_uri": "https://localhost:8080/"
        },
        "id": "vKEPg9pxDVWo",
        "outputId": "16e0da71-f7d5-42d9-a5e5-90c91b18576a"
      },
      "execution_count": null,
      "outputs": [
        {
          "output_type": "stream",
          "name": "stdout",
          "text": [
            "<class 'str'>\n",
            "<class 'int'>\n",
            "<class 'float'>\n",
            "<class 'bool'>\n"
          ]
        }
      ]
    },
    {
      "cell_type": "code",
      "source": [
        "age = float(age)\n",
        "print(age)\n",
        "print(type(age))"
      ],
      "metadata": {
        "colab": {
          "base_uri": "https://localhost:8080/"
        },
        "id": "YSxfVL7VJk-2",
        "outputId": "638a3c7c-781d-437d-cc7e-3ec350511c18"
      },
      "execution_count": null,
      "outputs": [
        {
          "output_type": "stream",
          "name": "stdout",
          "text": [
            "50.0\n",
            "<class 'float'>\n"
          ]
        }
      ]
    },
    {
      "cell_type": "code",
      "source": [
        "value = '124'\n",
        "print(type(value))\n",
        "\n",
        "value = int(value)\n",
        "print(type(value))"
      ],
      "metadata": {
        "colab": {
          "base_uri": "https://localhost:8080/"
        },
        "id": "wdp9-0Q8KHoj",
        "outputId": "8e946cfe-4455-43ef-c544-72bc7ef15ad1"
      },
      "execution_count": null,
      "outputs": [
        {
          "output_type": "stream",
          "name": "stdout",
          "text": [
            "<class 'str'>\n",
            "<class 'int'>\n"
          ]
        }
      ]
    },
    {
      "cell_type": "code",
      "source": [
        "oil_price = 22.9\n",
        "print(oil_price)\n",
        "print(type(oil_price))\n",
        "\n",
        "oil_price = int(oil_price)\n",
        "print(oil_price)\n",
        "print(type(oil_price))"
      ],
      "metadata": {
        "colab": {
          "base_uri": "https://localhost:8080/"
        },
        "id": "nxGYEvT9Kru6",
        "outputId": "f5a523df-6f02-409b-d844-7751b6b037ca"
      },
      "execution_count": null,
      "outputs": [
        {
          "output_type": "stream",
          "name": "stdout",
          "text": [
            "22.9\n",
            "<class 'float'>\n",
            "22\n",
            "<class 'int'>\n"
          ]
        }
      ]
    },
    {
      "cell_type": "code",
      "source": [
        "me = \"ebrima\"\n",
        "print(type(name))\n",
        "\n",
        "name = float(name)\n",
        "print(type(name))"
      ],
      "metadata": {
        "colab": {
          "base_uri": "https://localhost:8080/",
          "height": 211
        },
        "id": "xa1kMocBLJze",
        "outputId": "f16c3b67-0c8f-4a16-db9e-72107a0bd175"
      },
      "execution_count": null,
      "outputs": [
        {
          "output_type": "stream",
          "name": "stdout",
          "text": [
            "<class 'str'>\n"
          ]
        },
        {
          "output_type": "error",
          "ename": "ValueError",
          "evalue": "could not convert string to float: 'ebrima'",
          "traceback": [
            "\u001b[0;31m---------------------------------------------------------------------------\u001b[0m",
            "\u001b[0;31mValueError\u001b[0m                                Traceback (most recent call last)",
            "\u001b[0;32m<ipython-input-36-1b0826e6810c>\u001b[0m in \u001b[0;36m<cell line: 0>\u001b[0;34m()\u001b[0m\n\u001b[1;32m      2\u001b[0m \u001b[0mprint\u001b[0m\u001b[0;34m(\u001b[0m\u001b[0mtype\u001b[0m\u001b[0;34m(\u001b[0m\u001b[0mname\u001b[0m\u001b[0;34m)\u001b[0m\u001b[0;34m)\u001b[0m\u001b[0;34m\u001b[0m\u001b[0;34m\u001b[0m\u001b[0m\n\u001b[1;32m      3\u001b[0m \u001b[0;34m\u001b[0m\u001b[0m\n\u001b[0;32m----> 4\u001b[0;31m \u001b[0mname\u001b[0m \u001b[0;34m=\u001b[0m \u001b[0mfloat\u001b[0m\u001b[0;34m(\u001b[0m\u001b[0mname\u001b[0m\u001b[0;34m)\u001b[0m\u001b[0;34m\u001b[0m\u001b[0;34m\u001b[0m\u001b[0m\n\u001b[0m\u001b[1;32m      5\u001b[0m \u001b[0mprint\u001b[0m\u001b[0;34m(\u001b[0m\u001b[0mtype\u001b[0m\u001b[0;34m(\u001b[0m\u001b[0mname\u001b[0m\u001b[0;34m)\u001b[0m\u001b[0;34m)\u001b[0m\u001b[0;34m\u001b[0m\u001b[0;34m\u001b[0m\u001b[0m\n",
            "\u001b[0;31mValueError\u001b[0m: could not convert string to float: 'ebrima'"
          ]
        }
      ]
    },
    {
      "cell_type": "code",
      "source": [
        "a = 25\n",
        "b = 4\n",
        "\n",
        "print(a + b)\n",
        "print(a - b)\n",
        "print(a * b)\n",
        "print(a / b)\n",
        "print(a // b)\n",
        "print(a % b)\n",
        "print(a ** b)"
      ],
      "metadata": {
        "colab": {
          "base_uri": "https://localhost:8080/"
        },
        "id": "qY_ok0rCTHTR",
        "outputId": "dc88374f-2fec-4858-cb3b-49fb9038d9f9"
      },
      "execution_count": null,
      "outputs": [
        {
          "output_type": "stream",
          "name": "stdout",
          "text": [
            "29\n",
            "21\n",
            "100\n",
            "6.25\n",
            "6\n",
            "1\n",
            "390625\n"
          ]
        }
      ]
    },
    {
      "cell_type": "code",
      "source": [
        "\n",
        "result = 3 + 5 * 2 ** 2 - (4 / 2)\n",
        "print(result)"
      ],
      "metadata": {
        "colab": {
          "base_uri": "https://localhost:8080/"
        },
        "id": "02HbRMQnrRmt",
        "outputId": "37a5adf3-5f92-4baf-c10d-bcd044c9a9ec"
      },
      "execution_count": null,
      "outputs": [
        {
          "output_type": "stream",
          "name": "stdout",
          "text": [
            "21.0\n"
          ]
        }
      ]
    },
    {
      "cell_type": "code",
      "source": [
        "# single line comments\n",
        "# this is a comment\n",
        "print(\"hello\") # this is also a comment"
      ],
      "metadata": {
        "colab": {
          "base_uri": "https://localhost:8080/"
        },
        "id": "R8aMW-pqZTu5",
        "outputId": "13f18b4b-0a6e-448b-e82f-be99c16c7152"
      },
      "execution_count": 10,
      "outputs": [
        {
          "output_type": "stream",
          "name": "stdout",
          "text": [
            "hello\n"
          ]
        }
      ]
    },
    {
      "cell_type": "code",
      "source": [
        "# multliline comments\n",
        "\n",
        "\"\"\"\n",
        "this is a multiline comments\n",
        "i love python\n",
        "documentation\n",
        "\"\"\"\n",
        "print(\"python is awesome\")"
      ],
      "metadata": {
        "colab": {
          "base_uri": "https://localhost:8080/"
        },
        "id": "Oz9LEMpgZpg0",
        "outputId": "f79f679e-c09d-49eb-d686-59b7ed18f5c4"
      },
      "execution_count": 11,
      "outputs": [
        {
          "output_type": "stream",
          "name": "stdout",
          "text": [
            "python is awesome\n"
          ]
        }
      ]
    },
    {
      "cell_type": "code",
      "source": [
        "#print(\"this line of code will not be executed\")\n",
        "print(\"i love you\")"
      ],
      "metadata": {
        "colab": {
          "base_uri": "https://localhost:8080/"
        },
        "id": "6mJp3Vz6aTwU",
        "outputId": "77b13135-6970-4d5d-9713-558f27f9a4ae"
      },
      "execution_count": 1,
      "outputs": [
        {
          "output_type": "stream",
          "name": "stdout",
          "text": [
            "i love you\n"
          ]
        }
      ]
    },
    {
      "cell_type": "code",
      "source": [
        "message1 = \"hello\"\n",
        "message2 = 'hello'"
      ],
      "metadata": {
        "id": "iT4pSxgD4LxM"
      },
      "execution_count": null,
      "outputs": []
    },
    {
      "cell_type": "code",
      "source": [
        "text = \"\"\"this is a multi-line string\n",
        "it can have multilines\"\"\"\n",
        "\n",
        "print(text)"
      ],
      "metadata": {
        "colab": {
          "base_uri": "https://localhost:8080/"
        },
        "id": "4TAxlM2y4aUL",
        "outputId": "fe3a17c9-3547-4e0c-89b7-776a294c5b48"
      },
      "execution_count": 2,
      "outputs": [
        {
          "output_type": "stream",
          "name": "stdout",
          "text": [
            "this is a multi-line string\n",
            "it can have multilines\n"
          ]
        }
      ]
    },
    {
      "cell_type": "code",
      "source": [
        "# +\n",
        "f_name = \"ebrima\"\n",
        "l_name = \"jallow\"\n",
        "\n",
        "info = f_name + \" \" + l_name\n",
        "print(info)"
      ],
      "metadata": {
        "colab": {
          "base_uri": "https://localhost:8080/"
        },
        "id": "s85xOToc6qnD",
        "outputId": "291ae15c-fd81-4d9e-87b8-8611bf491361"
      },
      "execution_count": 5,
      "outputs": [
        {
          "output_type": "stream",
          "name": "stdout",
          "text": [
            "ebrima jallow\n"
          ]
        }
      ]
    },
    {
      "cell_type": "code",
      "source": [
        "# *\n",
        "print(\"ebrima \" * 3)"
      ],
      "metadata": {
        "colab": {
          "base_uri": "https://localhost:8080/"
        },
        "id": "pNJFVdWy7Omi",
        "outputId": "0354fa99-ccfb-4810-c75b-7a4306271600"
      },
      "execution_count": 8,
      "outputs": [
        {
          "output_type": "stream",
          "name": "stdout",
          "text": [
            "ebrima ebrima ebrima \n"
          ]
        }
      ]
    },
    {
      "cell_type": "code",
      "source": [
        "f_name = \"ebrima\"\n",
        "print('the length of my name is', len(f_name))"
      ],
      "metadata": {
        "colab": {
          "base_uri": "https://localhost:8080/"
        },
        "id": "DXGnf2bt7fiF",
        "outputId": "3875faee-e4bb-414f-ad22-bc14e1db8aa4"
      },
      "execution_count": 10,
      "outputs": [
        {
          "output_type": "stream",
          "name": "stdout",
          "text": [
            "the length of my name is 6\n"
          ]
        }
      ]
    },
    {
      "cell_type": "code",
      "source": [
        "full_name = \"Ebrima Jallow\"\n",
        "print(full_name.upper())\n",
        "print(full_name.lower())"
      ],
      "metadata": {
        "colab": {
          "base_uri": "https://localhost:8080/"
        },
        "id": "UQzuarGm-Dxt",
        "outputId": "81aad595-1f8e-4bcf-932f-903583f19b8f"
      },
      "execution_count": 12,
      "outputs": [
        {
          "output_type": "stream",
          "name": "stdout",
          "text": [
            "EBRIMA JALLOW\n",
            "ebrima jallow\n"
          ]
        }
      ]
    },
    {
      "cell_type": "code",
      "source": [
        "text = \"      I love Python     \"\n",
        "print(text.strip())"
      ],
      "metadata": {
        "colab": {
          "base_uri": "https://localhost:8080/"
        },
        "id": "nL2PGmNB_gEV",
        "outputId": "4abcd205-f976-4d66-e196-328bdbc9b6ba"
      },
      "execution_count": 14,
      "outputs": [
        {
          "output_type": "stream",
          "name": "stdout",
          "text": [
            "I love Python\n"
          ]
        }
      ]
    },
    {
      "cell_type": "code",
      "source": [
        "message = \"python is amazing\"\n",
        "print(\"python\" in message)\n",
        "print(\"java\" in message)"
      ],
      "metadata": {
        "colab": {
          "base_uri": "https://localhost:8080/"
        },
        "id": "4UOg2_2U_yR1",
        "outputId": "22a924cf-ff4c-4d2d-a5cc-709519aa6dc4"
      },
      "execution_count": 18,
      "outputs": [
        {
          "output_type": "stream",
          "name": "stdout",
          "text": [
            "True\n",
            "False\n"
          ]
        }
      ]
    },
    {
      "cell_type": "code",
      "source": [
        "name = \"ebrima\"\n",
        "age = 30\n",
        "print(f\"my name is {name} and i am {age} years old.\")\n",
        "print(\"my name is {} and i am {} years old.\".format(name, age))\n",
        "print(\"my name is %s and i am %d years old.\" % (name, age))"
      ],
      "metadata": {
        "colab": {
          "base_uri": "https://localhost:8080/"
        },
        "id": "cWvR9oa7BQtN",
        "outputId": "c668d12a-97d4-48f7-fd40-51ac86198801"
      },
      "execution_count": 47,
      "outputs": [
        {
          "output_type": "stream",
          "name": "stdout",
          "text": [
            "my name is ebrima and i am 30 years old.\n",
            "my name is ebrima and i am 30 years old.\n",
            "my name is ebrima and i am 30 years old.\n"
          ]
        }
      ]
    },
    {
      "cell_type": "code",
      "source": [
        "num1 = 10\n",
        "num2 = 5\n",
        "print(f\"the sum of {num1} and {num2} is {num1 + num2}\")"
      ],
      "metadata": {
        "colab": {
          "base_uri": "https://localhost:8080/"
        },
        "id": "Jyv3oTvTB4C1",
        "outputId": "56e02654-93cd-4010-adbe-fe983e88a7c4"
      },
      "execution_count": 1,
      "outputs": [
        {
          "output_type": "stream",
          "name": "stdout",
          "text": [
            "the sum of 10 and 5 is 15\n"
          ]
        }
      ]
    },
    {
      "cell_type": "code",
      "source": [
        "name = input(\"enter your name: \")\n",
        "print(f\"hello {name}\")"
      ],
      "metadata": {
        "colab": {
          "base_uri": "https://localhost:8080/"
        },
        "id": "qgsiVGFc0zOW",
        "outputId": "253e7a37-de2c-4e8e-891a-583d46f094ba"
      },
      "execution_count": 2,
      "outputs": [
        {
          "output_type": "stream",
          "name": "stdout",
          "text": [
            "enter your name: ebrima\n",
            "hello ebrima\n"
          ]
        }
      ]
    },
    {
      "cell_type": "code",
      "source": [
        "age = input(\"enter your age: \")\n",
        "print(f\"your age is {age} and the data type is {type(age)}\")"
      ],
      "metadata": {
        "colab": {
          "base_uri": "https://localhost:8080/"
        },
        "id": "Iprbmzs41GRz",
        "outputId": "256f7fad-a14f-4768-d8b5-549aa34980fb"
      },
      "execution_count": 3,
      "outputs": [
        {
          "output_type": "stream",
          "name": "stdout",
          "text": [
            "enter your age: 30\n",
            "your age is 30 and the data type is <class 'str'>\n"
          ]
        }
      ]
    },
    {
      "cell_type": "code",
      "source": [
        "num1 = int(input(\"enter first number: \"))\n",
        "num2 = int(input(\"enter second number: \"))\n",
        "\n",
        "print(f\"sum of {num1} and {num2} = {num1 + num2}\")"
      ],
      "metadata": {
        "colab": {
          "base_uri": "https://localhost:8080/"
        },
        "id": "hYYW2Hjz2rPt",
        "outputId": "2cde7465-8601-4cbc-fc33-d571e9afbcc9"
      },
      "execution_count": 9,
      "outputs": [
        {
          "output_type": "stream",
          "name": "stdout",
          "text": [
            "enter first number: 20\n",
            "enter second number: 10\n",
            "sum of 20 and 10 = 30\n"
          ]
        }
      ]
    },
    {
      "cell_type": "code",
      "source": [
        "f_name, l_name = input(\"enter your name: \").split()\n",
        "print(f\"your first name is {f_name} and your last name is {l_name}\")"
      ],
      "metadata": {
        "colab": {
          "base_uri": "https://localhost:8080/"
        },
        "id": "SNPdlUjr5OHn",
        "outputId": "a5fd6e9f-3d78-40a0-e696-b92aac5c61c7"
      },
      "execution_count": 12,
      "outputs": [
        {
          "output_type": "stream",
          "name": "stdout",
          "text": [
            "enter your name: ebrima jallow\n",
            "your first name is ebrima and your last name is jallow\n"
          ]
        }
      ]
    },
    {
      "cell_type": "code",
      "source": [
        "print(\"Hello World\")\n"
      ],
      "metadata": {
        "colab": {
          "base_uri": "https://localhost:8080/"
        },
        "id": "Z4D43tiE8VuW",
        "outputId": "2c41b6f3-6a3f-4d69-eca4-d54fde959c88"
      },
      "execution_count": 14,
      "outputs": [
        {
          "output_type": "stream",
          "name": "stdout",
          "text": [
            "Hello World\n"
          ]
        }
      ]
    },
    {
      "cell_type": "code",
      "source": [
        "name = \"Ebrima\"\n",
        "print(name)"
      ],
      "metadata": {
        "colab": {
          "base_uri": "https://localhost:8080/"
        },
        "id": "mYsdIuSi99Uk",
        "outputId": "e359232a-67ab-436b-ff0a-ad8af377bdc0"
      },
      "execution_count": 16,
      "outputs": [
        {
          "output_type": "stream",
          "name": "stdout",
          "text": [
            "Ebrima\n"
          ]
        }
      ]
    },
    {
      "cell_type": "code",
      "source": [
        "age = \"30\"\n",
        "new_age = int(age) + 5\n",
        "print(new_age)"
      ],
      "metadata": {
        "colab": {
          "base_uri": "https://localhost:8080/"
        },
        "id": "xvfEmMLA-DSD",
        "outputId": "8cc3c838-362f-4c59-dad5-6b744d998dba"
      },
      "execution_count": 19,
      "outputs": [
        {
          "output_type": "stream",
          "name": "stdout",
          "text": [
            "35\n"
          ]
        }
      ]
    },
    {
      "cell_type": "code",
      "source": [
        "print(\"Hello World\")"
      ],
      "metadata": {
        "colab": {
          "base_uri": "https://localhost:8080/"
        },
        "id": "jZIY3ovu-MS2",
        "outputId": "f6bfa565-2870-4e9d-a4b4-704c73048c16"
      },
      "execution_count": 21,
      "outputs": [
        {
          "output_type": "stream",
          "name": "stdout",
          "text": [
            "Hello World\n"
          ]
        }
      ]
    },
    {
      "cell_type": "code",
      "source": [
        "# write a program to ask a user to enter their birth year and calculate their age\n",
        "\n",
        "# steps below\n",
        "# use print statement to out put a welcoming message like welcome to the age calculator.\n",
        "print(\"welcome to the age calculator\")\n",
        "\n",
        "# ask user to input their birth year and store it as birth_year\n",
        "birth_year = int(input(\"enter your birth year: \"))\n",
        "\n",
        "# ask user to input the current year and store it as current_year\n",
        "current_year = int(input(\"enter the current year: \"))\n",
        "\n",
        "# subtract current_year from birth_year and save it as age\n",
        "age = current_year - birth_year\n",
        "\n",
        "# use f'string to output the age of the user\n",
        "print(f'you are {age} years old')"
      ],
      "metadata": {
        "colab": {
          "base_uri": "https://localhost:8080/"
        },
        "id": "7MKGgGrXATFG",
        "outputId": "9771a7fd-269b-4b91-8f1b-17ae4baf81c6"
      },
      "execution_count": 23,
      "outputs": [
        {
          "output_type": "stream",
          "name": "stdout",
          "text": [
            "welcome to the age calculator\n",
            "enter your birth year: 1994\n",
            "enter the current year: 2025\n",
            "you are 31 years old\n"
          ]
        }
      ]
    }
  ]
}