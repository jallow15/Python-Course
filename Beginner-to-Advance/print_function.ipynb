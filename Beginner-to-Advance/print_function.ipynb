{
  "nbformat": 4,
  "nbformat_minor": 0,
  "metadata": {
    "colab": {
      "provenance": []
    },
    "kernelspec": {
      "name": "python3",
      "display_name": "Python 3"
    },
    "language_info": {
      "name": "python"
    }
  },
  "cells": [
    {
      "cell_type": "markdown",
      "source": [
        "Print function allows us to display information such as text, numbers, variables or results of expressıon on the screen or console.\n",
        "\n",
        "Basic Synthax of  print()   \n",
        "​\n",
        "print(*objects, sep=' ', end='\\n’)\n",
        "\n",
        "Explanation of Parameters:​\n",
        "\n",
        " *objects = the text, numbers , variables etc you want to print separated by comma.  You can pass multiple objects that are separated by comma.​\n",
        "\n",
        "\n",
        " sep = ''   ~ Indicates how we want to separate multiple objects (optional)​\n",
        "\n",
        " end = ' \\n' ~ what you want to print at the end of the text, numbers, variables etc (optional).  By default is a newline\n",
        "\n",
        " we have more parameters than these but as beginners we will focus only on these ones for now.\n",
        "\n",
        "​"
      ],
      "metadata": {
        "id": "rdKxSGDSVztc"
      }
    },
    {
      "cell_type": "code",
      "source": [
        "# single values\n",
        "print(\"hello world!\")  # note that whatever you put inside quotes that is what is printed\n",
        "print(1)      # numbers are either integers (whole numbers) or float (decimal numbers)\n",
        "print(2 + 3)\n",
        "print(\"2 + 3\")"
      ],
      "metadata": {
        "colab": {
          "base_uri": "https://localhost:8080/"
        },
        "id": "UdiJGJYuXY9d",
        "outputId": "f9de5642-e7c1-47ed-ef72-2db31e2b1657"
      },
      "execution_count": 1,
      "outputs": [
        {
          "output_type": "stream",
          "name": "stdout",
          "text": [
            "hello world!\n",
            "1\n",
            "5\n",
            "2 + 3\n"
          ]
        }
      ]
    },
    {
      "cell_type": "code",
      "source": [
        "# multiple objects\n",
        "# they are separated by a comma\n",
        "\n",
        "print(\"python\", \"is\", \"cool.\") # The comma (,) separates objetcts and adds a default space between them.\n",
        "\n",
        "# we can also print numbers and variables together\n",
        "print(\"my favourite number is\", 10)\n",
        "print('2 + 3 =', 2 + 1)\n",
        "print('hello', 20, 23.9, True)"
      ],
      "metadata": {
        "colab": {
          "base_uri": "https://localhost:8080/"
        },
        "id": "Y2IU0uUWXdSn",
        "outputId": "2fb09b8d-0fe3-4e95-a2d3-da6588af7c37"
      },
      "execution_count": 2,
      "outputs": [
        {
          "output_type": "stream",
          "name": "stdout",
          "text": [
            "python is cool.\n",
            "my favourite number is 10\n",
            "2 + 3 = 3\n",
            "hello 20 23.9 True\n"
          ]
        }
      ]
    },
    {
      "cell_type": "markdown",
      "source": [
        "**Customizing the print function**"
      ],
      "metadata": {
        "id": "C8Ybu_DEXlBc"
      }
    },
    {
      "cell_type": "code",
      "source": [
        "# sep parameter\n",
        "# By default, Python separates multiple values with a space. We can change this using the sep parameter.\"\n",
        "print(\"python\", \"is\", \"cool.\", sep=\"-\")  # separated by a dash\n",
        "print(23, 11, 2025, sep=\"/\")  # forward slash\n",
        "print(13, 11, 2025, sep=\"/\")  # forward slash # put zero to have an error"
      ],
      "metadata": {
        "colab": {
          "base_uri": "https://localhost:8080/"
        },
        "id": "DB6HwWP3XquL",
        "outputId": "9dae4d84-e590-42bc-e855-b024da9ea1ab"
      },
      "execution_count": 3,
      "outputs": [
        {
          "output_type": "stream",
          "name": "stdout",
          "text": [
            "python-is-cool.\n",
            "23/11/2025\n",
            "13/11/2025\n"
          ]
        }
      ]
    },
    {
      "cell_type": "code",
      "source": [
        "# end parameter\n",
        "# By default, print() ends with a newline. You can change this:\n",
        "print(\"hello\", end=\" \")  # end parameter replaces the newline with a space\n",
        "print(\"world\")"
      ],
      "metadata": {
        "colab": {
          "base_uri": "https://localhost:8080/"
        },
        "id": "bqjY4tDKXuYZ",
        "outputId": "7de1cf04-17ec-42fd-ad93-7cc3d6ce5e93"
      },
      "execution_count": 4,
      "outputs": [
        {
          "output_type": "stream",
          "name": "stdout",
          "text": [
            "hello world\n"
          ]
        }
      ]
    },
    {
      "cell_type": "code",
      "source": [
        "print(\"Python\", end=\"!!! \") # immediately after the 'hello' is outputted add 3 exclamation marks\n",
        "\n"
      ],
      "metadata": {
        "colab": {
          "base_uri": "https://localhost:8080/"
        },
        "id": "07ERrFgeXyK2",
        "outputId": "ac993201-f653-4eb1-961e-1cbb004a5b33"
      },
      "execution_count": 5,
      "outputs": [
        {
          "output_type": "stream",
          "name": "stdout",
          "text": [
            "Python!!! "
          ]
        }
      ]
    },
    {
      "cell_type": "code",
      "source": [
        "# \\n means go to a newline\n",
        "print(\"my name is ebrima.\\ni am a coder.\\ni live in turkey.\")"
      ],
      "metadata": {
        "colab": {
          "base_uri": "https://localhost:8080/"
        },
        "id": "fjFD-psNYFnU",
        "outputId": "f1846f63-f22b-4f27-e348-b8ae4c40cf83"
      },
      "execution_count": 6,
      "outputs": [
        {
          "output_type": "stream",
          "name": "stdout",
          "text": [
            "my name is ebrima.\n",
            "i am a coder.\n",
            "i live in turkey.\n"
          ]
        }
      ]
    },
    {
      "cell_type": "code",
      "source": [
        "# \\t this means add a horizontal tab\n",
        "\n",
        "print('name\\tage\\tsex') # equal and resonable space of lets say 4 spaces\n",
        "print('ebrima\\t30\\tmale')"
      ],
      "metadata": {
        "colab": {
          "base_uri": "https://localhost:8080/"
        },
        "id": "Ct7F2bmfYJYO",
        "outputId": "1e242998-7581-4546-d90b-39ed96109af2"
      },
      "execution_count": 8,
      "outputs": [
        {
          "output_type": "stream",
          "name": "stdout",
          "text": [
            "name\tage\tsex\n",
            "ebrima\t30\tmale\n"
          ]
        }
      ]
    }
  ]
}