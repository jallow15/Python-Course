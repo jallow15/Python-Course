{
  "nbformat": 4,
  "nbformat_minor": 0,
  "metadata": {
    "colab": {
      "provenance": []
    },
    "kernelspec": {
      "name": "python3",
      "display_name": "Python 3"
    },
    "language_info": {
      "name": "python"
    }
  },
  "cells": [
    {
      "cell_type": "markdown",
      "source": [
        "# 🧠 Logical Operators in Python\n",
        "\n",
        "Logical operators are used to combine multiple conditions or Boolean values. They return either `True` or `False`.\n",
        "\n",
        "## ✅ Operators:\n",
        "\n",
        "| Operator | Meaning              | Example               |\n",
        "|----------|----------------------|------------------------|\n",
        "| `and`    | True if **both** conditions are True | `x > 5 and x < 10` |\n",
        "| `or`     | True if **at least one** condition is True | `x < 5 or x > 10` |\n",
        "| `not`    | Reverses the Boolean value | `not True` becomes `False` |\n",
        "\n",
        "---\n",
        "\n",
        "## 🔍 Examples:\n",
        "\n",
        "```python\n",
        "x = 7\n",
        "print(x > 5 and x < 10)  # True\n",
        "print(x < 5 or x > 10)   # False\n",
        "print(not (x == 7))      # False\n"
      ],
      "metadata": {
        "id": "puHYvWHeI7wj"
      }
    },
    {
      "cell_type": "code",
      "source": [
        "# Ask the user to input their age and convert it to an integer\n",
        "age = int(input('Enter your age: '))\n",
        "\n",
        "# Ask the user if they are a citizen, convert response to lowercase for consistency\n",
        "citizenship = input('Are you a citizen ? yes / no').lower()\n",
        "\n",
        "# Check if the person is 18 or older AND is a citizen\n",
        "if age >= 18 and citizenship == 'yes' :\n",
        "    print('you are eligible to vote')  # If both conditions are true, print eligibility message\n",
        "\n",
        "else :\n",
        "    print('you are not eligible to vote')  # If any condition is false, print not eligible\n"
      ],
      "metadata": {
        "colab": {
          "base_uri": "https://localhost:8080/"
        },
        "id": "CLZcc9ymJHXD",
        "outputId": "f72481ec-a6a6-4b68-9969-cbcc9794b5c1"
      },
      "execution_count": 1,
      "outputs": [
        {
          "output_type": "stream",
          "name": "stdout",
          "text": [
            "Enter your age: 20\n",
            "Are you a citizen ? yes / nono\n",
            "you are not eligible to vote\n"
          ]
        }
      ]
    },
    {
      "cell_type": "code",
      "source": [
        "# Ask user for height, age, and weight\n",
        "height = float(input(\"Enter your height (in meters): \"))\n",
        "age = int(input(\"Enter your age: \"))\n",
        "weight = float(input(\"Enter your weight (in kg): \"))\n",
        "\n",
        "# Check for potential health risk conditions\n",
        "if height < 1.65 or age < 18 or weight > 100:\n",
        "    print('you may need to focus on your health')  # Any of the conditions are met\n",
        "\n",
        "# Check if user falls into a healthy category\n",
        "elif height >= 1.70 and age >= 18 and weight <= 90:\n",
        "    print('you are in a healthy range')  # All healthy conditions are satisfied\n",
        "\n",
        "# Any other combination not covered above\n",
        "else:\n",
        "    print('you have a unique body type')  # For cases in between or outside other checks\n"
      ],
      "metadata": {
        "colab": {
          "base_uri": "https://localhost:8080/"
        },
        "id": "LWTNmbOzJjX_",
        "outputId": "6f8e08e5-a584-474b-91bd-846e3cf4acfb"
      },
      "execution_count": 2,
      "outputs": [
        {
          "output_type": "stream",
          "name": "stdout",
          "text": [
            "Enter your height (in meters): 1.69\n",
            "Enter your age: 24\n",
            "Enter your weight (in kg): 92\n",
            "you have a unique body type\n"
          ]
        }
      ]
    },
    {
      "cell_type": "code",
      "source": [
        "# Ask the user if it's raining and convert to a Boolean: True if 'yes', False otherwise\n",
        "is_raining = input('is it raining? (yes / no) ').lower() == 'yes'\n",
        "\n",
        "# If it's NOT raining (negation of is_raining)\n",
        "if not is_raining:\n",
        "    print('its not raining')  # Runs when user input was not 'yes'\n",
        "\n",
        "else:\n",
        "    print('its raining')  # Runs when user input was 'yes'\n"
      ],
      "metadata": {
        "colab": {
          "base_uri": "https://localhost:8080/"
        },
        "id": "IjtAGtakJ11L",
        "outputId": "7c768a86-59b6-452f-d107-39e0122ff12b"
      },
      "execution_count": 3,
      "outputs": [
        {
          "output_type": "stream",
          "name": "stdout",
          "text": [
            "is it raining? (yes / no) no\n",
            "its not raining\n"
          ]
        }
      ]
    }
  ]
}