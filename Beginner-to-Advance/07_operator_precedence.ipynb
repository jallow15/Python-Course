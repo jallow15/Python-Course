{
  "nbformat": 4,
  "nbformat_minor": 0,
  "metadata": {
    "colab": {
      "provenance": []
    },
    "kernelspec": {
      "name": "python3",
      "display_name": "Python 3"
    },
    "language_info": {
      "name": "python"
    }
  },
  "cells": [
    {
      "cell_type": "markdown",
      "source": [
        "Operator Precedence (Order of Execution)​\n",
        "\n",
        "Operator precedence determines which operations are performed first in an expression.\n",
        "\n",
        "\n",
        "Highest​ = Parentheses​ ()\n",
        "\n",
        "second highest = Exponentiation **\n",
        "\n",
        "third highest = Multiplication, Division, floor division and modulus (*, /, //, %).\n",
        "\n",
        "lowest = Addition and subtraction\n",
        "\n",
        "note : When calculating and you have same level of precedence then go from left to right.\n",
        "\n"
      ],
      "metadata": {
        "id": "-0JXrtbbDLAo"
      }
    },
    {
      "cell_type": "code",
      "source": [
        "# PEMDAS Example in Python\n",
        "# Expression to evaluate\n",
        "\n",
        "result = 3 + 5 * 2 ** 2 - (4 / 2)\n",
        "\n",
        "# Step-by-step explanation:\n",
        "# 1. Parentheses are evaluated first: (4 / 2) = 2.0\n",
        "# 2. Exponentiation (**): 2 ** 2 = 4\n",
        "# 3. Multiplication (*): 5 * 4 = 20\n",
        "# 4. Addition and Subtraction (+, -) are evaluated left to right:\n",
        "#    3 + 20 - 2.0 = 21.0\n",
        "\n",
        "# Print the final result\n",
        "print(result)  # Output: 21.0\n"
      ],
      "metadata": {
        "colab": {
          "base_uri": "https://localhost:8080/"
        },
        "id": "YPDG4x4_Emm6",
        "outputId": "79cdb8e2-77a8-49e9-e02b-0d014c81dd27"
      },
      "execution_count": 1,
      "outputs": [
        {
          "output_type": "stream",
          "name": "stdout",
          "text": [
            "21.0\n"
          ]
        }
      ]
    }
  ]
}