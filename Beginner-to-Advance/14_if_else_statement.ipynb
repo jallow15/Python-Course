{
  "nbformat": 4,
  "nbformat_minor": 0,
  "metadata": {
    "colab": {
      "provenance": []
    },
    "kernelspec": {
      "name": "python3",
      "display_name": "Python 3"
    },
    "language_info": {
      "name": "python"
    }
  },
  "cells": [
    {
      "cell_type": "markdown",
      "source": [
        "**Conditionals (if, else, elif statements)**​\n",
        "\n",
        "Conditionals allow your program to make decisions based on whether a condition is True or False.\n",
        "\n",
        "Have you ever wondered how computers make decisions? Just like we decide whether to go out based\n",
        "\n",
        "on the weather, Python also makes decisions using conditionals.\n",
        "\n",
        "**if statement** ​\n",
        "\n",
        "The if statement is Python's way of checking conditions. If the condition is True, Python runs the code inside the if block. Otherwise, it does nothing.​\n",
        "\n",
        "**​if-else conditionals​**\n",
        "\n",
        "The else statement only work if the if statement is false\n",
        "\n"
      ],
      "metadata": {
        "id": "evKa5W82c_IG"
      }
    },
    {
      "cell_type": "code",
      "source": [
        "age = int(input('Enter your age : ')) # The user inputs their age.\n",
        "\n",
        "if age >= 18 :                        #  If age is 18 or more, Python prints \"You are an adult.\"\n",
        "    print('you are an adult')\n"
      ],
      "metadata": {
        "colab": {
          "base_uri": "https://localhost:8080/"
        },
        "id": "Pp6F1K6IeR9D",
        "outputId": "c7c7027e-7196-49a5-df4d-0a3c308074cf"
      },
      "execution_count": 1,
      "outputs": [
        {
          "output_type": "stream",
          "name": "stdout",
          "text": [
            "Enter your age : 20\n",
            "you are an adult\n"
          ]
        }
      ]
    },
    {
      "cell_type": "code",
      "source": [
        "age = int(input('Enter your age : ')) # The user inputs their age.\n",
        "\n",
        "if age >= 18 :\n",
        "    print('you are an adult')     # code inside if block does not run because the if condition is false"
      ],
      "metadata": {
        "colab": {
          "base_uri": "https://localhost:8080/"
        },
        "id": "oPk0zo_CecYK",
        "outputId": "a97fd188-f539-430e-a114-92acd3fc99a2"
      },
      "execution_count": 2,
      "outputs": [
        {
          "name": "stdout",
          "output_type": "stream",
          "text": [
            "Enter your age : 17\n"
          ]
        }
      ]
    },
    {
      "cell_type": "code",
      "source": [
        "language = input('what is your favourite programming language? ')\n",
        "\n",
        "if language.lower() == 'python' :\n",
        "    print('great choice') # only runs if you type python"
      ],
      "metadata": {
        "colab": {
          "base_uri": "https://localhost:8080/"
        },
        "id": "YOpF7pTye695",
        "outputId": "b4fef146-301c-4ef6-df15-f34734d68d1c"
      },
      "execution_count": 3,
      "outputs": [
        {
          "output_type": "stream",
          "name": "stdout",
          "text": [
            "what is your favourite programming language? PYTHON\n",
            "great choice\n"
          ]
        }
      ]
    },
    {
      "cell_type": "code",
      "source": [
        "language = input('what is your favourite programming language? ')\n",
        "\n",
        "if language.lower() == 'python' :\n",
        "    print('great choice') # only runs if you type python which we did not instead we typed JAVA"
      ],
      "metadata": {
        "colab": {
          "base_uri": "https://localhost:8080/"
        },
        "id": "H5I4G4p_fF04",
        "outputId": "cfc20508-2430-42bf-f72f-cccca55a58a5"
      },
      "execution_count": 4,
      "outputs": [
        {
          "name": "stdout",
          "output_type": "stream",
          "text": [
            "what is your favourite programming language? JAVA\n"
          ]
        }
      ]
    },
    {
      "cell_type": "markdown",
      "source": [
        "# what if we want to handle both cases? That’s where else comes in and only runs if the if condition is false\""
      ],
      "metadata": {
        "id": "cOZSMATIfQwL"
      }
    },
    {
      "cell_type": "code",
      "source": [
        "age = int(input('Enter your age : '))\n",
        "\n",
        "if age >= 18 :\n",
        "    print('you are an adult')\n",
        "\n",
        "else :\n",
        "    print('you are a minor')  # we put 17 and if condition became false so the code inside the else block was executed"
      ],
      "metadata": {
        "colab": {
          "base_uri": "https://localhost:8080/"
        },
        "id": "fcMYbRB_fhG9",
        "outputId": "fa28f3a5-8dce-424c-e937-140b705fd645"
      },
      "execution_count": 5,
      "outputs": [
        {
          "output_type": "stream",
          "name": "stdout",
          "text": [
            "Enter your age : 17\n",
            "you are a minor\n"
          ]
        }
      ]
    },
    {
      "cell_type": "code",
      "source": [
        "language = input('what is your favourite programming? ')\n",
        "\n",
        "if language.lower() == 'python' :\n",
        "    print('great choice')\n",
        "\n",
        "else :\n",
        "    print('bad choice')  # only runs if you did not type python which we did not instead we typed JAVA"
      ],
      "metadata": {
        "colab": {
          "base_uri": "https://localhost:8080/"
        },
        "id": "rnv2lrw2f5is",
        "outputId": "1a01fab7-3663-4fd9-f03e-d503d05fd5c5"
      },
      "execution_count": 6,
      "outputs": [
        {
          "output_type": "stream",
          "name": "stdout",
          "text": [
            "what is your favourite programming? java\n",
            "bad choice\n"
          ]
        }
      ]
    },
    {
      "cell_type": "markdown",
      "source": [
        "# even odd number exercise"
      ],
      "metadata": {
        "id": "9uTeiYohgqZI"
      }
    },
    {
      "cell_type": "code",
      "source": [
        "num = int(input('Enter a number : ')) # user was asked to input a number which was converted to an integer\n",
        "\n",
        "if num % 2 == 0 :                   # checked if you divide a number by 2 whether you will have a remainder of zero which makes it an even number\n",
        "    print(f'{num} is even')\n",
        "\n",
        "else :\n",
        "    print(f'{num} is odd')          # if remainder is not zero then the code inside the else block will be printed"
      ],
      "metadata": {
        "colab": {
          "base_uri": "https://localhost:8080/"
        },
        "id": "l913tbu_gteE",
        "outputId": "ca233032-7dd0-464c-9c26-787cd4014313"
      },
      "execution_count": 7,
      "outputs": [
        {
          "output_type": "stream",
          "name": "stdout",
          "text": [
            "Enter a number : 11\n",
            "11 is odd\n"
          ]
        }
      ]
    }
  ]
}