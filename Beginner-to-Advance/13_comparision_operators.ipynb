{
  "nbformat": 4,
  "nbformat_minor": 0,
  "metadata": {
    "colab": {
      "provenance": []
    },
    "kernelspec": {
      "name": "python3",
      "display_name": "Python 3"
    },
    "language_info": {
      "name": "python"
    }
  },
  "cells": [
    {
      "cell_type": "markdown",
      "source": [
        "Comparison Operators​\n",
        "\n",
        "Comparison operators are used to ​compare two values. ​\n",
        "\n",
        "They return either True or False.\n",
        "\n",
        "comparission operators and their meaning\n",
        "\n",
        "\n",
        "\n",
        "Equal to​ ==\n",
        "\n",
        "Not equal to​ !=\n",
        "\n",
        "Greater than​ >\n",
        "\n",
        "Less than​ <\n",
        "\n",
        "Greater than or equal​ >=\n",
        "\n",
        "Less than or equal​ =<\n",
        "\n"
      ],
      "metadata": {
        "id": "d6yvUhY2Wz0L"
      }
    },
    {
      "cell_type": "code",
      "source": [
        "print(10 == 10)   # True\n",
        "print(10 == 5)    # False\n",
        "print(10 != 6)    # True\n",
        "print(10 > 4)     # True\n",
        "print(10 < 11)    # True\n",
        "print(10 < 4)     # False\n",
        "print(10 >= 6)    # True\n",
        "print(10 >= 11)   # False\n",
        "print(10 <= 11)   # True\n",
        "print(10 <= 10)   # True"
      ],
      "metadata": {
        "colab": {
          "base_uri": "https://localhost:8080/"
        },
        "id": "99giCIlOYiAs",
        "outputId": "bf32bdab-7f1e-4bbc-b7e5-948cff4841a4"
      },
      "execution_count": 1,
      "outputs": [
        {
          "output_type": "stream",
          "name": "stdout",
          "text": [
            "True\n",
            "False\n",
            "True\n",
            "True\n",
            "True\n",
            "False\n",
            "True\n",
            "False\n",
            "True\n",
            "True\n"
          ]
        }
      ]
    },
    {
      "cell_type": "markdown",
      "source": [
        "⚠️ Important Note About Comparison Operators in Python\n",
        "\n",
        "When using comparison operators in Python, never put spaces inside the operator\n",
        " itself — doing so will cause a syntax error or unexpected behavior.\n",
        "\n",
        " correct usage\n",
        "\n",
        " x == 5\n",
        "\n",
        "x != 10\n",
        "\n",
        "x >= 3\n",
        "\n",
        "x <= 7\n",
        "\n",
        "Incorrect usage\n",
        "\n",
        "x = = 5     # ❌ SyntaxError\n",
        "\n",
        "x ! = 10    # ❌ SyntaxError\n",
        "\n",
        "x > = 3     # ❌ SyntaxError\n",
        "\n",
        "x < = 7     # ❌ SyntaxError\n",
        "\n"
      ],
      "metadata": {
        "id": "3Qaap-R3ZuVf"
      }
    }
  ]
}