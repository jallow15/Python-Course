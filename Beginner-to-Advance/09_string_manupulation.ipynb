{
  "nbformat": 4,
  "nbformat_minor": 0,
  "metadata": {
    "colab": {
      "provenance": []
    },
    "kernelspec": {
      "name": "python3",
      "display_name": "Python 3"
    },
    "language_info": {
      "name": "python"
    }
  },
  "cells": [
    {
      "cell_type": "markdown",
      "source": [
        "What is a String?​\n",
        "\n",
        "A string is a sequence of characters (letters, numbers, symbols, or spaces) enclosed in quotes.​\n",
        "\n",
        "​Both single (') and double (\") quotes can be used. Python treats them the same.\n",
        "\n",
        " Strings can contain:​\n",
        "\n",
        "        Letters (\"Hello\")​\n",
        "\n",
        "        Numbers (\"123\")​\n",
        "\n",
        "        Symbols (\"$%^&!\") ​\n",
        "\n",
        "        Spaces (\"Hello World\")\n",
        "\n",
        "Types of Strings in Python​\n",
        "\n",
        "Python provides different ways to define strings based on how they are written and used.​\n",
        "\n",
        "​1. Single-Line String :A string that is written in one line is called a single-line string.You can use either single (' ') or double (\" \") quotes.\n",
        "\n",
        "2.Multi-Line Strings: A string that spans multiple lines is called a multi-line string. Use triple quotes (''' ''' or \"\"\" \"\"\") to define it.\n",
        "\n",
        "3.Formatted Strings (f-Strings)​\n",
        " ​F-strings allow inserting variables inside a string easily. Use f\"\" before the string.\n",
        "\n",
        "\n",
        "\n",
        "Basic String Operations​\n",
        "\n",
        "1.Combining (Joining) Strings (+ Operator) We can join two or more strings using +.​\n",
        "\n",
        "​2. Repeating Strings (* Operator) We can repeat a string multiple times using *.\n",
        "\n",
        "3.Finding the Length of a String (len()) The len() function counts the number of characters in a string, including spaces.\n",
        "\n",
        "\n",
        "Modifying Strings​\n",
        "\n",
        "1.Changing to Uppercase & Lowercase : We can change all letters to UPPERCASE or lowercase​\n",
        "\n",
        "​2.Removing Extra Spaces (strip()): If a string has extra spaces at the beginning or end, we can remove them with .strip().\n",
        "\n",
        "Checking if a Word Exists in a String (in Operator) : We can check if a word is inside a string using in."
      ],
      "metadata": {
        "id": "FmAVbqazgrhz"
      }
    },
    {
      "cell_type": "code",
      "source": [
        "# single line string\n",
        "\n",
        "message1 = \"Hello, pythonista!\"  # Using double quotes\n",
        "message2 = 'Python is amazing'   # Using single quotes\n"
      ],
      "metadata": {
        "id": "pcC7ItwIjBtB"
      },
      "execution_count": 1,
      "outputs": []
    },
    {
      "cell_type": "code",
      "source": [
        "# multiline string\n",
        "text = \"\"\"This is a\n",
        "multi-line string in Python.\n",
        "It can have multiple lines.\"\"\"\n",
        "print(text)"
      ],
      "metadata": {
        "colab": {
          "base_uri": "https://localhost:8080/"
        },
        "id": "VNVk3ZDDjMKg",
        "outputId": "5e0bd75d-578a-4807-b826-a05c38256677"
      },
      "execution_count": 2,
      "outputs": [
        {
          "output_type": "stream",
          "name": "stdout",
          "text": [
            "This is a\n",
            "multi-line string in Python.\n",
            "It can have multiple lines.\n"
          ]
        }
      ]
    },
    {
      "cell_type": "markdown",
      "source": [
        "Basic String Operations"
      ],
      "metadata": {
        "id": "feRZy1L5jRg3"
      }
    },
    {
      "cell_type": "code",
      "source": [
        "# COMBINING OR JOINING STRINGS WE CAN USE + OPERATOR\n",
        "\n",
        "\n",
        "f_name = \"Ebrima\"\n",
        "l_name = \"jallow\"\n",
        "message = f_name + \" \" + l_name   # add space manually to prevent merging\n",
        "print(message)\n"
      ],
      "metadata": {
        "colab": {
          "base_uri": "https://localhost:8080/"
        },
        "id": "Ye_RE1r5jWVO",
        "outputId": "d06acf7d-d1d1-4b8a-c610-018a7558731d"
      },
      "execution_count": 3,
      "outputs": [
        {
          "output_type": "stream",
          "name": "stdout",
          "text": [
            "Ebrima jallow\n"
          ]
        }
      ]
    },
    {
      "cell_type": "code",
      "source": [
        "# repeated strings * operator\n",
        "\n",
        "print(\"hello \" * 3)  # add space to prevent merging\n"
      ],
      "metadata": {
        "colab": {
          "base_uri": "https://localhost:8080/"
        },
        "id": "-5ANXStkjgWn",
        "outputId": "349084eb-f650-4941-93b1-64c5a078382a"
      },
      "execution_count": 4,
      "outputs": [
        {
          "output_type": "stream",
          "name": "stdout",
          "text": [
            "hello hello hello \n"
          ]
        }
      ]
    },
    {
      "cell_type": "code",
      "source": [
        "# find the length of a string. we will use the len() function\n",
        "\n",
        "name = \"Ebrima\"\n",
        "print('the length of my name is', len(name))"
      ],
      "metadata": {
        "colab": {
          "base_uri": "https://localhost:8080/"
        },
        "id": "q44KZ9BKjkkJ",
        "outputId": "7ef88af3-60fc-46a8-ce50-15794c159b3b"
      },
      "execution_count": 5,
      "outputs": [
        {
          "output_type": "stream",
          "name": "stdout",
          "text": [
            "the length of my name is 6\n"
          ]
        }
      ]
    },
    {
      "cell_type": "code",
      "source": [
        "# We can change all letters to uppercase (UPPERCASE) or lowercase (lowercase).\n",
        "\n",
        "full_name = 'Ebrima Jallow'\n",
        "print(full_name.upper())\n",
        "print(full_name.lower())"
      ],
      "metadata": {
        "colab": {
          "base_uri": "https://localhost:8080/"
        },
        "id": "I5vUZVDujoM3",
        "outputId": "0457bb6f-1c15-40d9-f1fa-11f0b0c067e6"
      },
      "execution_count": 6,
      "outputs": [
        {
          "output_type": "stream",
          "name": "stdout",
          "text": [
            "EBRIMA JALLOW\n",
            "ebrima jallow\n"
          ]
        }
      ]
    },
    {
      "cell_type": "code",
      "source": [
        "# If a string has extra spaces at the beginning or end, we can remove them with .strip() method.\n",
        "\n",
        "text = \"      I love Python!   \"\n",
        "print(text.strip())  # Removes spaces from both sides\n",
        "\n",
        "\n",
        "#text.lstrip() → Removes spaces only from the left.\n",
        "#text.rstrip() → Removes spaces only from the right.\n",
        "\n",
        "# there are other methods of strings that we will look at later on"
      ],
      "metadata": {
        "colab": {
          "base_uri": "https://localhost:8080/"
        },
        "id": "f363QdVNjsj9",
        "outputId": "f5bade44-b1c3-4147-917c-346aff4fa9aa"
      },
      "execution_count": 7,
      "outputs": [
        {
          "output_type": "stream",
          "name": "stdout",
          "text": [
            "I love Python!\n"
          ]
        }
      ]
    },
    {
      "cell_type": "code",
      "source": [
        "# We can check if a word is inside a string using the in operator.\n",
        "\n",
        "text = \"Python is amazing\"\n",
        "print(\"Python\" in text)  # True\n",
        "print(\"Java\" in text)    # False\n"
      ],
      "metadata": {
        "colab": {
          "base_uri": "https://localhost:8080/"
        },
        "id": "AsC-u7gZj8lG",
        "outputId": "c2cc2b83-c819-450c-fe6f-5cc903989456"
      },
      "execution_count": 8,
      "outputs": [
        {
          "output_type": "stream",
          "name": "stdout",
          "text": [
            "True\n",
            "False\n"
          ]
        }
      ]
    }
  ]
}