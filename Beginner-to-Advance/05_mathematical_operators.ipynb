{
  "nbformat": 4,
  "nbformat_minor": 0,
  "metadata": {
    "colab": {
      "provenance": []
    },
    "kernelspec": {
      "name": "python3",
      "display_name": "Python 3"
    },
    "language_info": {
      "name": "python"
    }
  },
  "cells": [
    {
      "cell_type": "markdown",
      "source": [
        " What are Mathematical Operators?​\n",
        "\n",
        "Mathematical operators are symbols used to perform arithmetic calculations in Python.​\n",
        "\n",
        "Addition operator (+) is used for addition\n",
        "\n",
        "subtraction operator (-) is used for subtraction\n",
        "\n",
        "multiplication  operator (*) is used for multiplication. Asterisk is the symbol for multiplication in python\n",
        "\n",
        "division operator (/) is used for division. forward slash is the symbol for division in python and division returns a float result.\n",
        "\n",
        "floor division operator (//) is used for taking the floor division. two forward slashes are the symbol for floor division in python and it rounds down the result to the nearest integer.\n",
        "\n",
        "modulus operator (%) is used for calculating the remainder of divided values. percentage is the symbol use for modulus operator in python and returns the remainder after dividing the numbers.\n",
        "\n",
        "exponentiation or power operator (**) is used to raise the left operand (base) to the power of the right operand (exponent). It is also called the power operator or exponent operator. The double asterisk operator is Python's most straightforward way to calculate exponentiation"
      ],
      "metadata": {
        "id": "XK2T0Dp3ello"
      }
    },
    {
      "cell_type": "code",
      "source": [
        "a = 25\n",
        "b = 4\n",
        "print(a + b)  # Output: 29\n",
        "print(a * b)  # 100\n",
        "print(a / b)  # 6.25\n",
        "print(a // b) # (floor division) 6\n",
        "print(a % b)  # out put remainder 1\n",
        "print(a ** b) # power 390625"
      ],
      "metadata": {
        "colab": {
          "base_uri": "https://localhost:8080/"
        },
        "id": "th__pvUJekev",
        "outputId": "083dd5fd-4ad3-45b4-ee85-c1307326ab1d"
      },
      "execution_count": 2,
      "outputs": [
        {
          "output_type": "stream",
          "name": "stdout",
          "text": [
            "29\n",
            "100\n",
            "6.25\n",
            "6\n",
            "1\n",
            "390625\n"
          ]
        }
      ]
    }
  ]
}