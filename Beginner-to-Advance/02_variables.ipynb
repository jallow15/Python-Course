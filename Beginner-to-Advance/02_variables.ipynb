{
  "nbformat": 4,
  "nbformat_minor": 0,
  "metadata": {
    "colab": {
      "provenance": []
    },
    "kernelspec": {
      "name": "python3",
      "display_name": "Python 3"
    },
    "language_info": {
      "name": "python"
    }
  },
  "cells": [
    {
      "cell_type": "markdown",
      "source": [
        "What is a Variable?​\n",
        "\n",
        "A variable is a container for storing data. In Python, you don’t need to declare the type of a variable—it is dynamically assigned.\n",
        "\n",
        "Points to note in variables (ENFORCED RULES ) failure to do an error will occur​\n",
        "\n",
        "1.Must start with a letter or underscore  (_)​\n",
        "\n",
        "2.Cannot start with a number​\n",
        "\n",
        "3.It can only contain letters, numbers, and underscores​\n",
        "\n",
        "4.Spaces are not allowed in variable names\n",
        "\n",
        "5.Python is case semsitive (Age and age are different)​\n",
        "\n",
        "6.Variable names cannot be python keywords​\n",
        "\n",
        "7.Special characters are not allowed (@, #, %, -, ! etc)"
      ],
      "metadata": {
        "id": "gNjLx4U0aJsd"
      }
    },
    {
      "cell_type": "code",
      "source": [
        "# must start with letters\n",
        "name = \"ebrima\"\n",
        "print(name)"
      ],
      "metadata": {
        "colab": {
          "base_uri": "https://localhost:8080/"
        },
        "id": "Sc27Iz7SatWI",
        "outputId": "f67b1e22-c42f-460f-f457-7fc1d248a2ac"
      },
      "execution_count": 1,
      "outputs": [
        {
          "output_type": "stream",
          "name": "stdout",
          "text": [
            "ebrima\n"
          ]
        }
      ]
    },
    {
      "cell_type": "code",
      "source": [
        "# start with underscore (but from the recommendations we are told to avoid it)\n",
        "_first = \"james\"\n",
        "print(_first)"
      ],
      "metadata": {
        "colab": {
          "base_uri": "https://localhost:8080/"
        },
        "id": "yTWbc2PkbPok",
        "outputId": "279934f9-484a-4cf6-b87e-a63decdda3d5"
      },
      "execution_count": 2,
      "outputs": [
        {
          "output_type": "stream",
          "name": "stdout",
          "text": [
            "james\n"
          ]
        }
      ]
    },
    {
      "cell_type": "code",
      "source": [
        "# spaces are not allowed\n",
        "first name = \"john\"\n",
        "print(first name)"
      ],
      "metadata": {
        "colab": {
          "base_uri": "https://localhost:8080/",
          "height": 110
        },
        "id": "X1pdRrkvbRCX",
        "outputId": "92267107-1cb8-47f8-dea2-945d5860a9e3"
      },
      "execution_count": 3,
      "outputs": [
        {
          "output_type": "error",
          "ename": "SyntaxError",
          "evalue": "invalid syntax (<ipython-input-3-2f5f63da1b87>, line 2)",
          "traceback": [
            "\u001b[0;36m  File \u001b[0;32m\"<ipython-input-3-2f5f63da1b87>\"\u001b[0;36m, line \u001b[0;32m2\u001b[0m\n\u001b[0;31m    first name = \"john\"\u001b[0m\n\u001b[0m          ^\u001b[0m\n\u001b[0;31mSyntaxError\u001b[0m\u001b[0;31m:\u001b[0m invalid syntax\n"
          ]
        }
      ]
    },
    {
      "cell_type": "code",
      "source": [
        "# case sensitive\n",
        "First = \"mary\"   # to avoid accidental variable reuse.\n",
        "print(first)"
      ],
      "metadata": {
        "colab": {
          "base_uri": "https://localhost:8080/",
          "height": 183
        },
        "id": "thwRsXclbUmv",
        "outputId": "c97bd19f-6dd1-4671-d549-ccb7fe0848bc"
      },
      "execution_count": 4,
      "outputs": [
        {
          "output_type": "error",
          "ename": "NameError",
          "evalue": "name 'first' is not defined",
          "traceback": [
            "\u001b[0;31m---------------------------------------------------------------------------\u001b[0m",
            "\u001b[0;31mNameError\u001b[0m                                 Traceback (most recent call last)",
            "\u001b[0;32m<ipython-input-4-4294ffb366d4>\u001b[0m in \u001b[0;36m<cell line: 0>\u001b[0;34m()\u001b[0m\n\u001b[1;32m      1\u001b[0m \u001b[0;31m# case sensitive\u001b[0m\u001b[0;34m\u001b[0m\u001b[0;34m\u001b[0m\u001b[0m\n\u001b[1;32m      2\u001b[0m \u001b[0mFirst\u001b[0m \u001b[0;34m=\u001b[0m \u001b[0;34m\"mary\"\u001b[0m   \u001b[0;31m# to avoid accidental variable reuse.\u001b[0m\u001b[0;34m\u001b[0m\u001b[0;34m\u001b[0m\u001b[0m\n\u001b[0;32m----> 3\u001b[0;31m \u001b[0mprint\u001b[0m\u001b[0;34m(\u001b[0m\u001b[0mfirst\u001b[0m\u001b[0;34m)\u001b[0m\u001b[0;34m\u001b[0m\u001b[0;34m\u001b[0m\u001b[0m\n\u001b[0m",
            "\u001b[0;31mNameError\u001b[0m: name 'first' is not defined"
          ]
        }
      ]
    },
    {
      "cell_type": "code",
      "source": [
        "# python keywords are not allowed\n",
        "\n",
        "if = \"john\"\n",
        "print(if)\n"
      ],
      "metadata": {
        "colab": {
          "base_uri": "https://localhost:8080/",
          "height": 110
        },
        "id": "c7n7QNZFbYCJ",
        "outputId": "4d3c2a12-4856-4cb9-ac53-371e226cbf08"
      },
      "execution_count": 5,
      "outputs": [
        {
          "output_type": "error",
          "ename": "SyntaxError",
          "evalue": "invalid syntax (<ipython-input-5-da0ef4c4e3cc>, line 3)",
          "traceback": [
            "\u001b[0;36m  File \u001b[0;32m\"<ipython-input-5-da0ef4c4e3cc>\"\u001b[0;36m, line \u001b[0;32m3\u001b[0m\n\u001b[0;31m    if = \"john\"\u001b[0m\n\u001b[0m       ^\u001b[0m\n\u001b[0;31mSyntaxError\u001b[0m\u001b[0;31m:\u001b[0m invalid syntax\n"
          ]
        }
      ]
    },
    {
      "cell_type": "code",
      "source": [
        "# special characters are not allowed\n",
        "first@ = \"john\"\n",
        "print(first@)"
      ],
      "metadata": {
        "colab": {
          "base_uri": "https://localhost:8080/",
          "height": 110
        },
        "id": "7AKuCFy2bhZ8",
        "outputId": "d8f703ea-2163-4a50-f000-4050f0632bcf"
      },
      "execution_count": 6,
      "outputs": [
        {
          "output_type": "error",
          "ename": "SyntaxError",
          "evalue": "invalid syntax (<ipython-input-6-562da8277767>, line 2)",
          "traceback": [
            "\u001b[0;36m  File \u001b[0;32m\"<ipython-input-6-562da8277767>\"\u001b[0;36m, line \u001b[0;32m2\u001b[0m\n\u001b[0;31m    first@ = \"john\"\u001b[0m\n\u001b[0m           ^\u001b[0m\n\u001b[0;31mSyntaxError\u001b[0m\u001b[0;31m:\u001b[0m invalid syntax\n"
          ]
        }
      ]
    },
    {
      "cell_type": "markdown",
      "source": [
        "RECOMMENDATIONS​\n",
        "\n",
        "These are not enforced by Python but are recommended for writing clean and maintainable code.​\n",
        "\n",
        "1.Use meaningful and descriptive names ​\n",
        "\n",
        "2.Avoid single-letter names except for loop variables.Follow snake_case for variable names.\n",
        "\n",
        "3.Use lowercase letters with underscores (_) between words (e.g., user_name, total_price).​\n",
        "\n",
        "4.Use uppercase letters for constants – Use all uppercase with underscores for constants (e.g., MAX_SPEED, PI).\n",
        "\n",
        "5.Avoid using the names of built-in functions – Don't use names like print, input, sum, etc., as variable names.​\n",
        "\n",
        "6.Do not start variable names with an underscore unless needed – Names that start with an underscore (_private_variable) are often used for special or private variables."
      ],
      "metadata": {
        "id": "hNj9BhBdbsdH"
      }
    },
    {
      "cell_type": "code",
      "source": [
        "# recommendation\n",
        "# snake case method\n",
        "user_name = \"james\"\n",
        "print(user_name)"
      ],
      "metadata": {
        "colab": {
          "base_uri": "https://localhost:8080/"
        },
        "id": "RCPju6NdcSLq",
        "outputId": "871c0d93-c4d1-4799-a492-c8d22539fb92"
      },
      "execution_count": 7,
      "outputs": [
        {
          "output_type": "stream",
          "name": "stdout",
          "text": [
            "james\n"
          ]
        }
      ]
    },
    {
      "cell_type": "code",
      "source": [
        "# avoid built in fuctions currently there are 71 built in functions\n",
        "\n",
        "# constant should be in all UPPER_CASE\n",
        "PI = 3.142\n",
        "print(PI)\n",
        "\n",
        "MAX_VALUE = 100\n",
        "print(MAX_VALUE)"
      ],
      "metadata": {
        "colab": {
          "base_uri": "https://localhost:8080/"
        },
        "id": "lBbVf2B9cWkY",
        "outputId": "e58db6b1-ab8e-4b43-a11b-37f6652855f4"
      },
      "execution_count": 8,
      "outputs": [
        {
          "output_type": "stream",
          "name": "stdout",
          "text": [
            "3.142\n",
            "100\n"
          ]
        }
      ]
    }
  ]
}