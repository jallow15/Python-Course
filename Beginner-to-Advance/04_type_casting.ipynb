{
  "nbformat": 4,
  "nbformat_minor": 0,
  "metadata": {
    "colab": {
      "provenance": []
    },
    "kernelspec": {
      "name": "python3",
      "display_name": "Python 3"
    },
    "language_info": {
      "name": "python"
    }
  },
  "cells": [
    {
      "cell_type": "markdown",
      "source": [
        "Data types can be converted using type casting functions sunch as:\n",
        "(int(), float(), str(), etc.).\n",
        "\n",
        "We are only focus on primitive data types for now."
      ],
      "metadata": {
        "id": "_5ySDVSP2U4l"
      }
    },
    {
      "cell_type": "code",
      "source": [
        "# data types\n",
        "name = \"Python\"  # String\n",
        "age = 50         # Integer\n",
        "price = 11.99     # Float\n",
        "is_active = True # Boolean"
      ],
      "metadata": {
        "id": "hfhZ_hnS3AGP"
      },
      "execution_count": 1,
      "outputs": []
    },
    {
      "cell_type": "code",
      "source": [
        "# type casting\n",
        "# coverting an integer to string\n",
        "age = str(age) # convert to string\n",
        "print(age)\n",
        "print(type(age)) # check data type"
      ],
      "metadata": {
        "colab": {
          "base_uri": "https://localhost:8080/"
        },
        "id": "MHwvGP1f2q28",
        "outputId": "99787fab-6ed0-412e-d8c5-47a02324c797"
      },
      "execution_count": 2,
      "outputs": [
        {
          "output_type": "stream",
          "name": "stdout",
          "text": [
            "50\n",
            "<class 'str'>\n"
          ]
        }
      ]
    },
    {
      "cell_type": "code",
      "source": [
        "# converting an integer to a float\n",
        "age = float(age) # convert to float\n",
        "print(age)\n",
        "print(type(age)) # check data type\n"
      ],
      "metadata": {
        "colab": {
          "base_uri": "https://localhost:8080/"
        },
        "id": "3fFbVolB3KRt",
        "outputId": "4ef0ed4e-8fbf-47fc-f801-c284c24f754a"
      },
      "execution_count": 3,
      "outputs": [
        {
          "output_type": "stream",
          "name": "stdout",
          "text": [
            "50.0\n",
            "<class 'float'>\n"
          ]
        }
      ]
    },
    {
      "cell_type": "code",
      "source": [
        "# converting a string to an integer value\n",
        "value = \"124\"\n",
        "print(type(value))\n",
        "value = int(value)  # convert to integer\n",
        "print(type(value))"
      ],
      "metadata": {
        "colab": {
          "base_uri": "https://localhost:8080/"
        },
        "id": "n3Ky_J9M3XVb",
        "outputId": "761bfbcd-68dc-45fd-9a44-566d7330e827"
      },
      "execution_count": 4,
      "outputs": [
        {
          "output_type": "stream",
          "name": "stdout",
          "text": [
            "<class 'str'>\n",
            "<class 'int'>\n"
          ]
        }
      ]
    },
    {
      "cell_type": "code",
      "source": [
        "# convert from float to an integer\n",
        "oil_price = 22.9\n",
        "print(type(oil_price))\n",
        "\n",
        "oil_price = int(oil_price)\n",
        "print(oil_price)\n",
        "print(type(oil_price))\n"
      ],
      "metadata": {
        "colab": {
          "base_uri": "https://localhost:8080/"
        },
        "id": "6jj47v8X32bm",
        "outputId": "10fef4ce-8838-4ea7-cd93-b4b49d5cca48"
      },
      "execution_count": 5,
      "outputs": [
        {
          "output_type": "stream",
          "name": "stdout",
          "text": [
            "<class 'float'>\n",
            "22\n",
            "<class 'int'>\n"
          ]
        }
      ]
    },
    {
      "cell_type": "code",
      "source": [
        "# we cannot convert letters, characters, symbols or alphabets to either an integer or float as they are not numbers\n",
        "name = \"ebrima\"\n",
        "print(type(name))\n",
        "name =int(name)\n",
        "print(type(name))"
      ],
      "metadata": {
        "colab": {
          "base_uri": "https://localhost:8080/",
          "height": 219
        },
        "id": "gJHXkTfs4DIG",
        "outputId": "1ef57423-c3e2-4ef5-81f6-8872f30361c8"
      },
      "execution_count": 6,
      "outputs": [
        {
          "output_type": "stream",
          "name": "stdout",
          "text": [
            "<class 'str'>\n"
          ]
        },
        {
          "output_type": "error",
          "ename": "ValueError",
          "evalue": "invalid literal for int() with base 10: 'ebrima'",
          "traceback": [
            "\u001b[0;31m---------------------------------------------------------------------------\u001b[0m",
            "\u001b[0;31mValueError\u001b[0m                                Traceback (most recent call last)",
            "\u001b[0;32m<ipython-input-6-8ca931e68be8>\u001b[0m in \u001b[0;36m<cell line: 0>\u001b[0;34m()\u001b[0m\n\u001b[1;32m      2\u001b[0m \u001b[0mname\u001b[0m \u001b[0;34m=\u001b[0m \u001b[0;34m\"ebrima\"\u001b[0m\u001b[0;34m\u001b[0m\u001b[0;34m\u001b[0m\u001b[0m\n\u001b[1;32m      3\u001b[0m \u001b[0mprint\u001b[0m\u001b[0;34m(\u001b[0m\u001b[0mtype\u001b[0m\u001b[0;34m(\u001b[0m\u001b[0mname\u001b[0m\u001b[0;34m)\u001b[0m\u001b[0;34m)\u001b[0m\u001b[0;34m\u001b[0m\u001b[0;34m\u001b[0m\u001b[0m\n\u001b[0;32m----> 4\u001b[0;31m \u001b[0mname\u001b[0m \u001b[0;34m=\u001b[0m\u001b[0mint\u001b[0m\u001b[0;34m(\u001b[0m\u001b[0mname\u001b[0m\u001b[0;34m)\u001b[0m\u001b[0;34m\u001b[0m\u001b[0;34m\u001b[0m\u001b[0m\n\u001b[0m\u001b[1;32m      5\u001b[0m \u001b[0mprint\u001b[0m\u001b[0;34m(\u001b[0m\u001b[0mtype\u001b[0m\u001b[0;34m(\u001b[0m\u001b[0mname\u001b[0m\u001b[0;34m)\u001b[0m\u001b[0;34m)\u001b[0m\u001b[0;34m\u001b[0m\u001b[0;34m\u001b[0m\u001b[0m\n",
            "\u001b[0;31mValueError\u001b[0m: invalid literal for int() with base 10: 'ebrima'"
          ]
        }
      ]
    }
  ]
}